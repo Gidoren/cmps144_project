{
 "cells": [
  {
   "cell_type": "markdown",
   "metadata": {
    "colab_type": "text",
    "id": "IAjxWAk-Juoo"
   },
   "source": [
    "**Notebook description:**"
   ]
  },
  {
   "cell_type": "code",
   "execution_count": null,
   "metadata": {
    "colab": {},
    "colab_type": "code",
    "collapsed": true,
    "id": "9tV_fGbPJuor"
   },
   "outputs": [],
   "source": [
    "import pandas as pd\n",
    "\n",
    "from sklearn import preprocessing\n",
    "from sklearn.preprocessing import MinMaxScaler\n",
    "import matplotlib.pyplot as plt \n",
    "from keras.layers.advanced_activations import LeakyReLU, PReLU\n",
    "\n",
    "import seaborn as sns\n",
    "sns.set(style=\"white\") #white background style for seaborn plots\n",
    "sns.set(style=\"whitegrid\", color_codes=True)\n",
    "\n",
    "\n",
    "import numpy as np\n",
    "import sklearn as sk\n",
    "from sklearn.model_selection import train_test_split \n",
    "from sklearn import metrics  \n",
    "import pandas as pd\n",
    "\n",
    "from tensorflow import keras\n",
    "from keras.models import Sequential\n",
    "from keras.layers import Dense, Activation\n",
    "from keras import regularizers\n",
    "from keras.layers import Dropout\n",
    "from sklearn.preprocessing import LabelEncoder\n",
    "from sklearn.preprocessing import OneHotEncoder"
   ]
  },
  {
   "cell_type": "code",
   "execution_count": null,
   "metadata": {
    "colab": {},
    "colab_type": "code",
    "collapsed": true,
    "id": "6w69NIlZJuoz"
   },
   "outputs": [],
   "source": [
    "data = pd.read_csv('ks-projects-201801.csv')"
   ]
  },
  {
   "cell_type": "code",
   "execution_count": null,
   "metadata": {
    "colab": {
     "base_uri": "https://localhost:8080/",
     "height": 363
    },
    "colab_type": "code",
    "collapsed": true,
    "id": "8uA-qOlkJuo4",
    "outputId": "53b36dc8-619b-4a48-94cb-7582692e7d71"
   },
   "outputs": [],
   "source": [
    "data.head(10)"
   ]
  },
  {
   "cell_type": "markdown",
   "metadata": {
    "colab_type": "text",
    "id": "MWO89zNDJuo_"
   },
   "source": [
    "Perform some data cleaning and feature engineering. Create one-hot-encoding for  \n",
    "string labels."
   ]
  },
  {
   "cell_type": "code",
   "execution_count": null,
   "metadata": {
    "colab": {},
    "colab_type": "code",
    "collapsed": true,
    "id": "1ev3KvFbJupB"
   },
   "outputs": [],
   "source": [
    "# number of days between launch data and deadline\n",
    "def duration_of_project():\n",
    "    duration = []\n",
    "    \n",
    "    for launch, deadline in zip(data['launched'], data['deadline']):\n",
    "        \n",
    "        launch = (launch.split())[0]\n",
    "        launchT = [x.strip() for x in launch.split('-')]\n",
    "        deadlineT = [x.strip() for x in deadline.split('-')]\n",
    "    \n",
    "        year_diff = (int(deadlineT[0]) - int(launchT[0]))*365\n",
    "        month_diff = (int(deadlineT[1]) - int(launchT[1]))*30\n",
    "        day_diff = int(deadlineT[2]) - int(launchT[2])\n",
    "    \n",
    "        days_offset = year_diff + month_diff + day_diff\n",
    "        duration.append(days_offset)\n",
    "        \n",
    "    data['duration'] = duration"
   ]
  },
  {
   "cell_type": "code",
   "execution_count": null,
   "metadata": {
    "colab": {
     "base_uri": "https://localhost:8080/",
     "height": 554
    },
    "colab_type": "code",
    "collapsed": true,
    "id": "75989xB5JupF",
    "outputId": "b1711979-af7e-4337-cb8d-9d299bad1589",
    "scrolled": true
   },
   "outputs": [],
   "source": [
    "# add column for the duration of the project\n",
    "duration_of_project()\n",
    "data.head(10)"
   ]
  },
  {
   "cell_type": "code",
   "execution_count": null,
   "metadata": {
    "colab": {
     "base_uri": "https://localhost:8080/",
     "height": 403
    },
    "colab_type": "code",
    "collapsed": true,
    "id": "LLltSxAfJupI",
    "outputId": "9584140c-9748-4d2e-ac50-5a82d3d2a691"
   },
   "outputs": [],
   "source": [
    "data.info()"
   ]
  },
  {
   "cell_type": "code",
   "execution_count": null,
   "metadata": {
    "colab": {},
    "colab_type": "code",
    "collapsed": true,
    "id": "E10Cu4aEJupQ"
   },
   "outputs": [],
   "source": [
    "#getting unique categories in a list\n",
    "cat = []\n",
    "for i in data['category']:\n",
    "    if len(cat) == 0:\n",
    "        cat.append(i)\n",
    "    k = 0\n",
    "    for j in cat:\n",
    "        if j == i:\n",
    "            k = 1\n",
    "            break\n",
    "    if k==0:\n",
    "        cat.append(i)\n",
    "#creating the unique categories successful mean\n",
    "BackerMean = [0] * 160\n",
    "GoalMean = [0] * 160\n",
    "\n",
    "counter = 0\n",
    "for i in cat:\n",
    "    count = 0\n",
    "    total = 0\n",
    "    for j in data['category']:\n",
    "        if j==cat[counter]:\n",
    "            if data['state'][count] == 'successful':\n",
    "                BackerMean[counter] += data['backers'][count]\n",
    "                GoalMean[counter] += data['goal'][count]\n",
    "                total = total + 1\n",
    "        count = count + 1\n",
    "    if BackerMean[counter]!= 0:\n",
    "        BackerMean[counter] = BackerMean[counter]/total\n",
    "        GoalMean[counter] = GoalMean[counter]/total\n",
    "    BackerMean[counter] = round(BackerMean[counter])\n",
    "    GoalMean[counter] = round(GoalMean[counter])\n",
    "    counter = counter + 1"
   ]
  },
  {
   "cell_type": "code",
   "execution_count": null,
   "metadata": {
    "colab": {},
    "colab_type": "code",
    "collapsed": true,
    "id": "NqKYCfQmJupU"
   },
   "outputs": [],
   "source": [
    "#Creates a Column stating a binary state on whether or not the project had reached the mean\n",
    "#of backers in its prospective category\n",
    "BackerBinary = [0] * 378661\n",
    "CategoryMean = [0] * 378661\n",
    "GoalBinary = [0] * 378661\n",
    "counter = 0\n",
    "for i in cat:\n",
    "    count = 0\n",
    "    for j in data['category']:\n",
    "        if j == i:\n",
    "            BackerBinary[count] = data['backers'][count] - BackerMean[counter]\n",
    "            GoalBinary[count] = data['goal'][count] - GoalMean[counter]\n",
    "            CategoryMean[count] = BackerMean[counter]\n",
    "            if BackerBinary[count] < 0:\n",
    "                BackerBinary[count] = 0\n",
    "            else:\n",
    "                BackerBinary[count] = 1\n",
    "            if GoalBinary[count] > 0:\n",
    "              GoalBinary[count] = 0\n",
    "            else:\n",
    "              GoalBinary[count] = 1\n",
    "        count = count+1\n",
    "    counter = counter + 1"
   ]
  },
  {
   "cell_type": "code",
   "execution_count": null,
   "metadata": {
    "colab": {
     "base_uri": "https://localhost:8080/",
     "height": 3051
    },
    "colab_type": "code",
    "collapsed": true,
    "id": "S5THlDkNJupb",
    "outputId": "e0882c56-2ff7-4bc6-8fc8-cbee2de0cdc8"
   },
   "outputs": [],
   "source": [
    "data['GoalBinary'] = GoalBinary\n",
    "data.head(100)"
   ]
  },
  {
   "cell_type": "code",
   "execution_count": null,
   "metadata": {
    "colab": {},
    "colab_type": "code",
    "collapsed": true,
    "id": "IWVg1Nn3Jupl"
   },
   "outputs": [],
   "source": []
  },
  {
   "cell_type": "code",
   "execution_count": null,
   "metadata": {
    "colab": {
     "base_uri": "https://localhost:8080/",
     "height": 81
    },
    "colab_type": "code",
    "collapsed": true,
    "id": "wl8D3-OdJupo",
    "outputId": "2c7bf662-8b3a-4f89-c185-98e2a6f54dfd"
   },
   "outputs": [],
   "source": [
    "# convert state to -1, 1 for fail, succeed\n",
    "data['state'].replace(['canceled'], ['failed'], inplace=True)\n",
    "data['state'].replace(['failed', 'successful'], [-1, 1], inplace=True)\n",
    "data.head(1)"
   ]
  },
  {
   "cell_type": "code",
   "execution_count": null,
   "metadata": {
    "colab": {
     "base_uri": "https://localhost:8080/",
     "height": 421
    },
    "colab_type": "code",
    "collapsed": true,
    "id": "-6VQ0UCoJups",
    "outputId": "fa458ac5-3a3b-4e85-844b-b891cf617ac2"
   },
   "outputs": [],
   "source": [
    "data.info();"
   ]
  },
  {
   "cell_type": "code",
   "execution_count": null,
   "metadata": {
    "colab": {
     "base_uri": "https://localhost:8080/",
     "height": 348
    },
    "colab_type": "code",
    "collapsed": true,
    "id": "XRuuszKVJupx",
    "outputId": "10e0966b-70eb-488e-d16c-a1b0b1cef252"
   },
   "outputs": [],
   "source": [
    "data.isnull().sum()\n",
    "#how do we deal with null values"
   ]
  },
  {
   "cell_type": "code",
   "execution_count": null,
   "metadata": {
    "colab": {
     "base_uri": "https://localhost:8080/",
     "height": 1156
    },
    "colab_type": "code",
    "collapsed": true,
    "id": "vqsh8zUoJup2",
    "outputId": "52be579b-3fd1-4d3a-dccd-44c1534025af"
   },
   "outputs": [],
   "source": [
    "#distribution of categories\n",
    "print(data['category'].value_counts());\n",
    "#possible new column (popular category vs unpopular category);"
   ]
  },
  {
   "cell_type": "code",
   "execution_count": null,
   "metadata": {
    "colab": {},
    "colab_type": "code",
    "collapsed": true,
    "id": "XguQCx0xJup5"
   },
   "outputs": [],
   "source": []
  },
  {
   "cell_type": "code",
   "execution_count": null,
   "metadata": {
    "colab": {},
    "colab_type": "code",
    "collapsed": true,
    "id": "9Sjkb7TlJup8"
   },
   "outputs": [],
   "source": [
    "data['state_binary'] = data['state']"
   ]
  },
  {
   "cell_type": "code",
   "execution_count": null,
   "metadata": {
    "colab": {
     "base_uri": "https://localhost:8080/",
     "height": 115
    },
    "colab_type": "code",
    "collapsed": true,
    "id": "uFC3P4w2Jup_",
    "outputId": "e097141f-af2b-4ac0-e5e6-feadfc827152",
    "scrolled": true
   },
   "outputs": [],
   "source": [
    "data.head(1)"
   ]
  },
  {
   "cell_type": "code",
   "execution_count": null,
   "metadata": {
    "colab": {
     "base_uri": "https://localhost:8080/",
     "height": 3243
    },
    "colab_type": "code",
    "collapsed": true,
    "id": "l2maWFIUJuqG",
    "outputId": "f7745b2a-b23f-4b77-c8ca-a9be17e7feb9"
   },
   "outputs": [],
   "source": [
    "#translate state to 0 and 1\n",
    "data['state_binary'].replace([-1, 1], [0, 1], inplace=True)\n",
    "data.head(1000)"
   ]
  },
  {
   "cell_type": "code",
   "execution_count": null,
   "metadata": {
    "colab": {
     "base_uri": "https://localhost:8080/",
     "height": 311
    },
    "colab_type": "code",
    "collapsed": true,
    "id": "ltLeeGdvJuqR",
    "outputId": "afd6e4dc-a9d7-47b0-c1ab-9ce93498e4e0"
   },
   "outputs": [],
   "source": [
    "print(data['main_category'].value_counts());"
   ]
  },
  {
   "cell_type": "code",
   "execution_count": null,
   "metadata": {
    "colab": {
     "base_uri": "https://localhost:8080/",
     "height": 458
    },
    "colab_type": "code",
    "collapsed": true,
    "id": "OaSv7WbGJuqT",
    "outputId": "2b242bb3-a970-42c1-8e1a-9de01303d445"
   },
   "outputs": [],
   "source": [
    "print(data['country'].value_counts());"
   ]
  },
  {
   "cell_type": "code",
   "execution_count": null,
   "metadata": {
    "colab": {},
    "colab_type": "code",
    "collapsed": true,
    "id": "cmeY6euSJuqd"
   },
   "outputs": [],
   "source": [
    "#boolean for each category. This modified table is stored in \"training\"\n",
    "#training=pd.get_dummies(data, columns=[\"main_category\"])\n",
    "#training.head(1)"
   ]
  },
  {
   "cell_type": "code",
   "execution_count": null,
   "metadata": {
    "colab": {
     "base_uri": "https://localhost:8080/",
     "height": 398
    },
    "colab_type": "code",
    "collapsed": true,
    "id": "LoKFRnR7Juqk",
    "outputId": "45fc6ed2-e917-44e0-8ad9-4309bb1725e0"
   },
   "outputs": [],
   "source": [
    "#apperently there are more possible states\n",
    "sns.barplot('state_binary','duration', data=data, color=\"darkturquoise\")\n",
    "plt.show()\n",
    "#Interesting to see is that the duration of unsuccessfull projects is higher. Maybe because successful projects \n",
    "#end before their initial end date. The data we got might talk about the actual end and not the initial end date"
   ]
  },
  {
   "cell_type": "code",
   "execution_count": null,
   "metadata": {
    "colab": {
     "base_uri": "https://localhost:8080/",
     "height": 127
    },
    "colab_type": "code",
    "collapsed": true,
    "id": "LDcAksqxJuqm",
    "outputId": "7d4abd66-db1c-40ec-f051-cf570fb8b107",
    "scrolled": true
   },
   "outputs": [],
   "source": [
    "print(data['state'].value_counts());"
   ]
  },
  {
   "cell_type": "markdown",
   "metadata": {
    "colab_type": "text",
    "id": "LSGf58nkJuqo"
   },
   "source": [
    "SLIM DATA IS THE TABLE THAT I USE FROM THIS POINT ON"
   ]
  },
  {
   "cell_type": "code",
   "execution_count": null,
   "metadata": {
    "colab": {
     "base_uri": "https://localhost:8080/",
     "height": 72
    },
    "colab_type": "code",
    "collapsed": true,
    "id": "lEMc-vzjJuqp",
    "outputId": "109f837e-62a6-4c96-c2a7-23be58958991",
    "scrolled": true
   },
   "outputs": [],
   "source": [
    "#slim data drops \"undefined\", \"live\" and \"suspended\"\n",
    "slim_data = data.copy()\n",
    "indexNames = slim_data[ (slim_data['state_binary'] != 1) & (slim_data['state_binary'] != 0) ].index\n",
    "slim_data.drop(indexNames , inplace=True)\n",
    "print(slim_data['state_binary'].value_counts());"
   ]
  },
  {
   "cell_type": "code",
   "execution_count": null,
   "metadata": {
    "colab": {
     "base_uri": "https://localhost:8080/",
     "height": 398
    },
    "colab_type": "code",
    "collapsed": true,
    "id": "V6I2H-ysgwMh",
    "outputId": "6754613b-cf85-4013-e85e-af796b4d6ef8"
   },
   "outputs": [],
   "source": [
    "#Average success rate based on setting goal above the average value per category\n",
    "sns.barplot('GoalBinary','state_binary', data=slim_data, color=\"darkturquoise\")\n",
    "plt.show()"
   ]
  },
  {
   "cell_type": "code",
   "execution_count": null,
   "metadata": {
    "colab": {
     "base_uri": "https://localhost:8080/",
     "height": 398
    },
    "colab_type": "code",
    "collapsed": true,
    "id": "8WDMzBNUJuqt",
    "outputId": "374065b2-6e07-4d90-bd70-d7f7cf410b86",
    "scrolled": true
   },
   "outputs": [],
   "source": [
    "#Average success rate based on category\n",
    "sns.barplot('state_binary','main_category', data=slim_data, color=\"darkturquoise\")\n",
    "plt.show()"
   ]
  },
  {
   "cell_type": "code",
   "execution_count": null,
   "metadata": {
    "colab": {
     "base_uri": "https://localhost:8080/",
     "height": 401
    },
    "colab_type": "code",
    "collapsed": true,
    "id": "72GXrNTCJuqy",
    "outputId": "6b59cb1f-6639-48fb-e595-8f988a57fafd"
   },
   "outputs": [],
   "source": [
    "sns.barplot('state_binary','category', data=slim_data, color=\"darkturquoise\")\n",
    "plt.show()"
   ]
  },
  {
   "cell_type": "code",
   "execution_count": null,
   "metadata": {
    "colab": {
     "base_uri": "https://localhost:8080/",
     "height": 398
    },
    "colab_type": "code",
    "collapsed": true,
    "id": "vU4n1C5CJuq0",
    "outputId": "272f9238-9aaa-4ed3-92e3-7411fe95f3ea"
   },
   "outputs": [],
   "source": [
    "sns.barplot('state_binary','country', data=slim_data, color=\"darkturquoise\")\n",
    "plt.show()"
   ]
  },
  {
   "cell_type": "code",
   "execution_count": null,
   "metadata": {
    "colab": {
     "base_uri": "https://localhost:8080/",
     "height": 643
    },
    "colab_type": "code",
    "collapsed": true,
    "id": "bH46xPLmJuq3",
    "outputId": "0bcfbb43-7af1-41d1-b2d6-c0b2fccdc8a6"
   },
   "outputs": [],
   "source": [
    "plt.figure(figsize=(30,10))\n",
    "sns.barplot('duration', 'state_binary',data=slim_data, color=\"darkturquoise\")\n",
    "plt.show()"
   ]
  },
  {
   "cell_type": "code",
   "execution_count": null,
   "metadata": {
    "colab": {
     "base_uri": "https://localhost:8080/",
     "height": 182
    },
    "colab_type": "code",
    "collapsed": true,
    "id": "-ismtA0bJuq6",
    "outputId": "bf1580a9-34fd-4133-d24d-eb2e79bb58a1"
   },
   "outputs": [],
   "source": [
    "data['duration'].describe()"
   ]
  },
  {
   "cell_type": "markdown",
   "metadata": {
    "colab_type": "text",
    "id": "LHsSZc-1Juq7"
   },
   "source": [
    "Reducing Variance for the goal column"
   ]
  },
  {
   "cell_type": "code",
   "execution_count": null,
   "metadata": {
    "colab": {},
    "colab_type": "code",
    "collapsed": true,
    "id": "BF_TV3C1Juq8"
   },
   "outputs": [],
   "source": [
    "#All goals below 1000 are updated to 1000\n",
    "#slim_data.loc[slim_data['goal'] < 1000] = 1000\n",
    "#slim_data.loc[slim_data['goal'] > 1000000] = 1000000\n",
    "#slim_data.head(1000)\n",
    "#slim_data['goal'].describe()"
   ]
  },
  {
   "cell_type": "code",
   "execution_count": null,
   "metadata": {
    "colab": {
     "base_uri": "https://localhost:8080/",
     "height": 682
    },
    "colab_type": "code",
    "collapsed": true,
    "id": "gjx9ybOLJurA",
    "outputId": "fe2f9067-cf03-4fec-b8fa-7cbd0f2f9692"
   },
   "outputs": [],
   "source": [
    "# Goal histogram.\n",
    "plt.figure(figsize=(30,10))\n",
    "sns.distplot(np.log(data['goal']))\n",
    "#plt.yticks(fig.get_yticks(), fig.get_yticks() * 100000)\n",
    "#plt.ylabel('Distribution [%]', fontsize=16)\n",
    "#plt.xticks(fig.get_xticks(), fig.get_xticks() * 1)\n"
   ]
  },
  {
   "cell_type": "code",
   "execution_count": null,
   "metadata": {
    "colab": {},
    "colab_type": "code",
    "collapsed": true,
    "id": "7g0pZljJJurD"
   },
   "outputs": [],
   "source": [
    "#Arr = []\n",
    "#for i in data['currency']:\n",
    "#    exists = 0\n",
    "#    if len(Arr) == 0:\n",
    "#        Arr.append(i)\n",
    "#    else:\n",
    "#        for j in Arr:\n",
    "#            if j == i:\n",
    "#                exists = 1\n",
    "#        if exists == 0:\n",
    "#            Arr.append(i)"
   ]
  },
  {
   "cell_type": "markdown",
   "metadata": {
    "colab_type": "text",
    "collapsed": true,
    "id": "7w-cG2hSJurE"
   },
   "source": [
    "**Create one-hot-encodings for columns: category, main-category, currency, country**"
   ]
  },
  {
   "cell_type": "code",
   "execution_count": null,
   "metadata": {
    "colab": {
     "base_uri": "https://localhost:8080/",
     "height": 274
    },
    "colab_type": "code",
    "collapsed": true,
    "id": "1cndO-huJurF",
    "outputId": "1a10a50f-662b-4ac8-f743-024be72d0818"
   },
   "outputs": [],
   "source": [
    "#print(slim_data['currency'][0])\n",
    "\n",
    "unique = []\n",
    "for curr in slim_data['currency']:\n",
    "    if curr not in unique:\n",
    "        print(curr)\n",
    "        unique.append(curr)"
   ]
  },
  {
   "cell_type": "code",
   "execution_count": null,
   "metadata": {
    "colab": {
     "base_uri": "https://localhost:8080/",
     "height": 310
    },
    "colab_type": "code",
    "collapsed": true,
    "id": "6dhp5q9DJurH",
    "outputId": "6acb2818-c1c8-4175-b512-fc6e529442f9"
   },
   "outputs": [],
   "source": [
    "slim_data.head()"
   ]
  },
  {
   "cell_type": "code",
   "execution_count": null,
   "metadata": {
    "colab": {},
    "colab_type": "code",
    "collapsed": true,
    "id": "8j6D3dkpJurK"
   },
   "outputs": [],
   "source": [
    "# find length of name\n",
    "name_length = []\n",
    "for name in slim_data['name']:\n",
    "    try:\n",
    "        name_length.append(len(name))\n",
    "    except:\n",
    "        name_length.append(0)\n",
    "slim_data['name_len'] = name_length"
   ]
  },
  {
   "cell_type": "code",
   "execution_count": null,
   "metadata": {
    "colab": {
     "base_uri": "https://localhost:8080/",
     "height": 90
    },
    "colab_type": "code",
    "collapsed": true,
    "id": "vFqRV-WfJurM",
    "outputId": "25532df3-8e9d-4ab4-df7d-1a5132e0bf58"
   },
   "outputs": [],
   "source": [
    "# scale down data columns\n",
    "sc = MinMaxScaler()\n",
    "\n",
    "slim_data['fit_goal'] = sc.fit_transform(slim_data[['goal']])\n",
    "slim_data['fit_name_len'] = sc.fit_transform(slim_data[['name_len']])\n",
    "slim_data['fit_duration'] = sc.fit_transform(slim_data[['duration']])"
   ]
  },
  {
   "cell_type": "code",
   "execution_count": null,
   "metadata": {
    "colab": {
     "base_uri": "https://localhost:8080/",
     "height": 499
    },
    "colab_type": "code",
    "collapsed": true,
    "id": "PogbCK9TJurQ",
    "outputId": "2bca607f-43f6-4631-aff7-32e2fce196a2"
   },
   "outputs": [],
   "source": [
    "slim_data.head()"
   ]
  },
  {
   "cell_type": "code",
   "execution_count": null,
   "metadata": {
    "colab": {},
    "colab_type": "code",
    "collapsed": true,
    "id": "PMCYFkEBJurV"
   },
   "outputs": [],
   "source": [
    "training=pd.get_dummies(slim_data, columns=[\"main_category\"])\n",
    "training=pd.get_dummies(training, columns=[\"category\"])\n",
    "training=pd.get_dummies(training, columns=[\"country\"])\n",
    "training=pd.get_dummies(training, columns=[\"currency\"])\n",
    "\n",
    "y = training['state_binary']\n",
    "X = training.loc[:, 'fit_goal':]\n",
    "X['GoalBinary'] = slim_data['GoalBinary']\n",
    "\n",
    "from sklearn.model_selection import train_test_split\n",
    "X_train, X_test, y_train, y_test = train_test_split(X, y, test_size = 0.2, random_state=0)\n"
   ]
  },
  {
   "cell_type": "code",
   "execution_count": null,
   "metadata": {
    "colab": {},
    "colab_type": "code",
    "collapsed": true,
    "id": "XML8m3jZJurX"
   },
   "outputs": [],
   "source": [
    "#from sklearn.linear_model import LogisticRegression\n",
    "#logisticRegr = LogisticRegression()\n",
    "#logisticRegr.fit(X_train, y_train)\n",
    "#predictions = logisticRegr.predict(X_test)\n",
    "#score = logisticRegr.score(X_test, y_test)\n",
    "#print(score)\n"
   ]
  },
  {
   "cell_type": "code",
   "execution_count": null,
   "metadata": {
    "colab": {
     "base_uri": "https://localhost:8080/",
     "height": 2021
    },
    "colab_type": "code",
    "collapsed": true,
    "id": "P_PTkjrEJurZ",
    "outputId": "96697d26-130c-422c-8175-4dc1e6543d88"
   },
   "outputs": [],
   "source": [
    "# build DNN\n",
    "\n",
    "model = Sequential()\n",
    "\n",
    "# input layer\n",
    "model.add(Dense(200, activation='linear', input_dim = 215))\n",
    "model.add(LeakyReLU(alpha=.001))\n",
    "model.add(Dropout(0.5))\n",
    "\n",
    "# second layer\n",
    "model.add(Dense(100, activation='linear'))\n",
    "model.add(LeakyReLU(alpha=.001))\n",
    "model.add(Dropout(0.5))\n",
    "\n",
    "\n",
    "# third layer\n",
    "model.add(Dense(100, activation='linear'))\n",
    "model.add(LeakyReLU(alpha=.001))\n",
    "model.add(Dropout(0.5))\n",
    "\n",
    "\n",
    "# fourth layer\n",
    "model.add(Dense(150, activation='linear'))\n",
    "model.add(LeakyReLU(alpha=.001))\n",
    "model.add(Dropout(0.5))\n",
    "\n",
    "\n",
    "# fith layer\n",
    "model.add(Dense(100, activation='linear'))\n",
    "model.add(LeakyReLU(alpha=.001))\n",
    "model.add(Dropout(0.5))\n",
    "\n",
    "\n",
    "# output layer\n",
    "model.add(Dense(1, activation='sigmoid'))\n",
    "\n",
    "# compile the model using rmsprop opt and mse loss\n",
    "model.compile(optimizer = 'adam',  \n",
    "              loss = 'binary_crossentropy',\n",
    "              metrics = ['accuracy'])\n",
    "\n",
    "# Train the model, iterating on the data in batches of 32 samples\n",
    "history = model.fit(X_train, y_train, \n",
    "                    validation_split = 0.33, \n",
    "                    epochs = 50,\n",
    "                    batch_size = 35)\n",
    "\n",
    "# Evaluate the model's performance\n",
    "train_loss, train_acc = model.evaluate(X_train, y_train)\n",
    "test_loss, test_acc = model.evaluate(X_test, y_test)\n",
    "\n",
    "print('Training set accuracy:', train_acc)\n",
    "print('Test set accuracy:', test_acc)"
   ]
  },
  {
   "cell_type": "code",
   "execution_count": null,
   "metadata": {
    "colab": {
     "base_uri": "https://localhost:8080/",
     "height": 376
    },
    "colab_type": "code",
    "collapsed": true,
    "id": "ZlR7gI98Jurb",
    "outputId": "2c0924f9-cbbc-4e5c-f2c9-90ff22875f12"
   },
   "outputs": [],
   "source": [
    "# The history of our accuracy during training.\n",
    "plt.plot(history.history['acc'])\n",
    "plt.plot(history.history['val_acc'])\n",
    "plt.title('Model Accuracy')\n",
    "plt.ylabel('Accuracy')\n",
    "plt.xlabel('Number of epochs')\n",
    "plt.legend(['train', 'test'], loc='upper left')\n",
    "plt.show()"
   ]
  },
  {
   "cell_type": "code",
   "execution_count": null,
   "metadata": {
    "colab": {
     "base_uri": "https://localhost:8080/",
     "height": 376
    },
    "colab_type": "code",
    "collapsed": true,
    "id": "b4k-6MscJure",
    "outputId": "cced4dee-faaa-44a7-ec9b-3c76c4b85a9f"
   },
   "outputs": [],
   "source": [
    "# The history of our cross-entropy loss during training.\n",
    "plt.plot(history.history['loss'])\n",
    "plt.plot(history.history['val_loss'])\n",
    "plt.title('Model Loss')\n",
    "plt.ylabel('Loss')\n",
    "plt.xlabel('Number of epochs')\n",
    "plt.legend(['train', 'test'], loc='upper left')\n",
    "plt.show()"
   ]
  },
  {
   "cell_type": "code",
   "execution_count": null,
   "metadata": {
    "collapsed": true
   },
   "outputs": [],
   "source": [
    "predictions = model.predict(X_test)\n",
    "y_pred = []\n",
    "neg = pos = 0\n",
    "for pred in predictions:\n",
    "    if pred < 0.5:\n",
    "        neg += 1\n",
    "        y_pred.append(0.0)\n",
    "    else:\n",
    "        pos += 1\n",
    "        y_pred.append(1.0)\n",
    "print(\"pos:\", pos, \" | neg:\", neg)\n",
    "print(len(X_test))"
   ]
  },
  {
   "cell_type": "code",
   "execution_count": null,
   "metadata": {
    "collapsed": true
   },
   "outputs": [],
   "source": [
    "y_true = []\n",
    "for val in y_test:\n",
    "    y_true.append(val)\n",
    "matrix = confusion_matrix(y_true, y_pred)\n",
    "print(matrix)"
   ]
  }
 ],
 "metadata": {
  "colab": {
   "name": "kickstarter_project.ipynb",
   "provenance": [],
   "version": "0.3.2"
  },
  "kernelspec": {
   "display_name": "Python 3",
   "language": "python",
   "name": "python3"
  },
  "language_info": {
   "codemirror_mode": {
    "name": "ipython",
    "version": 3
   },
   "file_extension": ".py",
   "mimetype": "text/x-python",
   "name": "python",
   "nbconvert_exporter": "python",
   "pygments_lexer": "ipython3",
   "version": "3.6.8"
  }
 },
 "nbformat": 4,
 "nbformat_minor": 1
}
