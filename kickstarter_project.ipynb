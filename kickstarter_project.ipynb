{
 "cells": [
  {
   "cell_type": "markdown",
   "metadata": {},
   "source": [
    "**Notebook description:**"
   ]
  },
  {
   "cell_type": "code",
   "execution_count": null,
   "metadata": {
    "collapsed": true
   },
   "outputs": [],
   "source": [
    "import pandas as pd"
   ]
  },
  {
   "cell_type": "code",
   "execution_count": null,
   "metadata": {
    "collapsed": true
   },
   "outputs": [],
   "source": [
    "data = pd.read_csv('ks-projects-201801.csv')"
   ]
  },
  {
   "cell_type": "code",
   "execution_count": null,
   "metadata": {
    "collapsed": true
   },
   "outputs": [],
   "source": [
    "# number of days between launch data and deadline\n",
    "def duration_of_project():\n",
    "    duration = []\n",
    "    \n",
    "    for launch, deadline in zip(data['launched'], data['deadline']):\n",
    "        \n",
    "        launch = (launch.split())[0]\n",
    "        launchT = [x.strip() for x in launch.split('-')]\n",
    "        deadlineT = [x.strip() for x in deadline.split('-')]\n",
    "    \n",
    "        year_diff = (int(deadlineT[0]) - int(launchT[0]))*365\n",
    "        month_diff = (int(deadlineT[1]) - int(launchT[1]))*30\n",
    "        day_diff = int(deadlineT[2]) - int(launchT[2])\n",
    "    \n",
    "        days_offset = year_diff + month_diff + day_diff\n",
    "        duration.append(days_offset)\n",
    "        \n",
    "    data['duration'] = duration"
   ]
  },
  {
   "cell_type": "code",
   "execution_count": null,
   "metadata": {
    "scrolled": true
   },
   "outputs": [],
   "source": [
    "# add column for the duration of the project\n",
    "duration_of_project()\n",
    "data.head(10)"
   ]
  },
  {
   "cell_type": "code",
   "execution_count": null,
   "metadata": {},
   "outputs": [],
   "source": [
    "data.info()"
   ]
  },
  {
   "cell_type": "code",
   "execution_count": null,
   "metadata": {},
   "outputs": [],
   "source": [
    "# convert state to -1, 1 for fail, succeed\n",
    "data['state'].replace(['canceled'], ['failed'], inplace=True)\n",
    "data['state'].replace(['failed', 'successful'], [-1, 1], inplace=True)\n",
    "data.head(10)"
   ]
  },
  {
   "cell_type": "code",
   "execution_count": null,
   "metadata": {},
   "outputs": [],
   "source": [
    "Arr = []\n",
    "for i in data['currency']:\n",
    "    exists = 0\n",
    "    if len(Arr) == 0:\n",
    "        Arr.append(i)\n",
    "    else:\n",
    "        for j in Arr:\n",
    "            if j == i:\n",
    "                exists = 1\n",
    "        if exists == 0:\n",
    "            Arr.append(i)\n",
    "for curr in Arr:\n",
    "    print(curr)"
   ]
  },
  {
   "cell_type": "code",
   "execution_count": null,
   "metadata": {
    "collapsed": true
   },
   "outputs": [],
   "source": []
  }
 ],
 "metadata": {
  "kernelspec": {
   "display_name": "Python 3",
   "language": "python",
   "name": "python3"
  },
  "language_info": {
   "codemirror_mode": {
    "name": "ipython",
    "version": 3
   },
   "file_extension": ".py",
   "mimetype": "text/x-python",
   "name": "python",
   "nbconvert_exporter": "python",
   "pygments_lexer": "ipython3",
   "version": "3.6.3"
  }
 },
 "nbformat": 4,
 "nbformat_minor": 2
}
