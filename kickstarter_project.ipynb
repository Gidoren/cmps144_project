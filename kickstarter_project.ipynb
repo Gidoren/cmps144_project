{
 "cells": [
  {
   "cell_type": "markdown",
   "metadata": {},
   "source": [
    "**Notebook description:**"
   ]
  },
  {
   "cell_type": "code",
   "execution_count": null,
   "metadata": {
    "collapsed": true
   },
   "outputs": [],
   "source": [
    "import pandas as pd\n",
    "\n",
    "from sklearn import preprocessing\n",
    "import matplotlib.pyplot as plt \n",
    "\n",
    "import seaborn as sns\n",
    "sns.set(style=\"white\") #white background style for seaborn plots\n",
    "sns.set(style=\"whitegrid\", color_codes=True)\n",
    "\n",
    "\n",
    "import numpy as np         # linear algebra\n",
    "import sklearn as sk       # machine learning\n",
    "from sklearn.model_selection import train_test_split # to split off training and test sets\n",
    "from sklearn import metrics  # Useful for creating confusion matrices\n",
    "import pandas as pd        # reading in data files, data cleaning\n",
    "#drive.mount('/content/drive')\n"
   ]
  },
  {
   "cell_type": "code",
   "execution_count": null,
   "metadata": {
    "collapsed": true
   },
   "outputs": [],
   "source": [
    "data = pd.read_csv('ks-projects-201801.csv')"
   ]
  },
  {
   "cell_type": "code",
   "execution_count": null,
   "metadata": {
    "collapsed": true
   },
   "outputs": [],
   "source": [
    "data.head(10)"
   ]
  },
  {
   "cell_type": "markdown",
   "metadata": {},
   "source": [
    "Perform some data cleaning and feature engineering. Create one-hot-encoding for  \n",
    "string labels."
   ]
  },
  {
   "cell_type": "code",
   "execution_count": null,
   "metadata": {
    "collapsed": true
   },
   "outputs": [],
   "source": [
    "# number of days between launch data and deadline\n",
    "def duration_of_project():\n",
    "    duration = []\n",
    "    \n",
    "    for launch, deadline in zip(data['launched'], data['deadline']):\n",
    "        \n",
    "        launch = (launch.split())[0]\n",
    "        launchT = [x.strip() for x in launch.split('-')]\n",
    "        deadlineT = [x.strip() for x in deadline.split('-')]\n",
    "    \n",
    "        year_diff = (int(deadlineT[0]) - int(launchT[0]))*365\n",
    "        month_diff = (int(deadlineT[1]) - int(launchT[1]))*30\n",
    "        day_diff = int(deadlineT[2]) - int(launchT[2])\n",
    "    \n",
    "        days_offset = year_diff + month_diff + day_diff\n",
    "        duration.append(days_offset)\n",
    "        \n",
    "    data['duration'] = duration"
   ]
  },
  {
   "cell_type": "code",
   "execution_count": null,
   "metadata": {
    "collapsed": true,
    "scrolled": true
   },
   "outputs": [],
   "source": [
    "# add column for the duration of the project\n",
    "duration_of_project()\n",
    "data.head(10)"
   ]
  },
  {
   "cell_type": "code",
   "execution_count": null,
   "metadata": {
    "collapsed": true
   },
   "outputs": [],
   "source": [
    "data.info()"
   ]
  },
  {
   "cell_type": "markdown",
   "metadata": {
    "collapsed": true
   },
   "source": [
    "**Create one-hot-encodings for columns: category, main-category, currency, country**"
   ]
  },
  {
   "cell_type": "code",
   "execution_count": null,
   "metadata": {
    "collapsed": true
   },
   "outputs": [],
   "source": [
    "# convert state to -1, 1 for fail, succeed\n",
    "data['state'].replace(['canceled'], ['failed'], inplace=True)\n",
    "data['state'].replace(['failed', 'successful'], [-1, 1], inplace=True)\n",
    "data.head(1)"
   ]
  },
  {
   "cell_type": "code",
   "execution_count": null,
   "metadata": {
    "collapsed": true
   },
   "outputs": [],
   "source": [
    "Arr = []\n",
    "for i in data['currency']:\n",
    "    exists = 0\n",
    "    if len(Arr) == 0:\n",
    "        Arr.append(i)\n",
    "    else:\n",
    "        for j in Arr:\n",
    "            if j == i:\n",
    "                exists = 1\n",
    "        if exists == 0:\n",
    "            Arr.append(i)\n",
    "for curr in Arr:\n",
    "    print(curr)"
   ]
  },
  {
   "cell_type": "code",
   "execution_count": null,
   "metadata": {
    "collapsed": true
   },
   "outputs": [],
   "source": [
    "data.info();"
   ]
  },
  {
   "cell_type": "code",
   "execution_count": null,
   "metadata": {
    "collapsed": true
   },
   "outputs": [],
   "source": [
    "data.isnull().sum()\n",
    "#how do we deal with null values"
   ]
  },
  {
   "cell_type": "code",
   "execution_count": null,
   "metadata": {
    "collapsed": true
   },
   "outputs": [],
   "source": [
    "#distribution of categories\n",
    "print(data['category'].value_counts());\n",
    "#possible new column (popular category vs unpopular category);"
   ]
  },
  {
   "cell_type": "code",
   "execution_count": null,
   "metadata": {
    "collapsed": true
   },
   "outputs": [],
   "source": [
    "data['state_binary'] = data['state']"
   ]
  },
  {
   "cell_type": "code",
   "execution_count": null,
   "metadata": {
    "collapsed": true,
    "scrolled": true
   },
   "outputs": [],
   "source": [
    "data.head(1)"
   ]
  },
  {
   "cell_type": "code",
   "execution_count": null,
   "metadata": {
    "collapsed": true
   },
   "outputs": [],
   "source": [
    "#translate state to 0 and 1\n",
    "data['state_binary'].replace([-1, 1], [0, 1], inplace=True)\n",
    "data.head(1000)"
   ]
  },
  {
   "cell_type": "code",
   "execution_count": null,
   "metadata": {
    "collapsed": true
   },
   "outputs": [],
   "source": [
    "print(data['main_category'].value_counts());"
   ]
  },
  {
   "cell_type": "code",
   "execution_count": null,
   "metadata": {
    "collapsed": true
   },
   "outputs": [],
   "source": [
    "print(data['country'].value_counts());"
   ]
  },
  {
   "cell_type": "code",
   "execution_count": null,
   "metadata": {
    "collapsed": true
   },
   "outputs": [],
   "source": [
    "#boolean for each category. This modified table is stored in \"training\"\n",
    "#training=pd.get_dummies(data, columns=[\"main_category\"])\n",
    "#training.head(1)"
   ]
  },
  {
   "cell_type": "code",
   "execution_count": null,
   "metadata": {
    "collapsed": true
   },
   "outputs": [],
   "source": [
    "#apperently there are more possible states\n",
    "sns.barplot('state_binary','duration', data=data, color=\"darkturquoise\")\n",
    "plt.show()\n",
    "#Interesting to see is that the duration of unsuccessfull projects is higher. Maybe because successful projects \n",
    "#end before their initial end date. The data we got might talk about the actual end and not the initial end date"
   ]
  },
  {
   "cell_type": "code",
   "execution_count": null,
   "metadata": {
    "collapsed": true,
    "scrolled": true
   },
   "outputs": [],
   "source": [
    "print(data['state'].value_counts());"
   ]
  },
  {
   "cell_type": "markdown",
   "metadata": {},
   "source": [
    "SLIM DATA IS THE TABLE THAT I USE FROM THIS POINT ON"
   ]
  },
  {
   "cell_type": "code",
   "execution_count": null,
   "metadata": {
    "collapsed": true,
    "scrolled": true
   },
   "outputs": [],
   "source": [
    "#slim data drops \"undefined\", \"live\" and \"suspended\"\n",
    "slim_data = data.copy()\n",
    "indexNames = slim_data[ (slim_data['state_binary'] != 1) & (slim_data['state_binary'] != 0) ].index\n",
    "slim_data.drop(indexNames , inplace=True)\n",
    "print(slim_data['state_binary'].value_counts());"
   ]
  },
  {
   "cell_type": "code",
   "execution_count": null,
   "metadata": {
    "collapsed": true,
    "scrolled": true
   },
   "outputs": [],
   "source": [
    "#Average success rate based on category\n",
    "sns.barplot('state_binary','main_category', data=slim_data, color=\"darkturquoise\")\n",
    "plt.show()"
   ]
  },
  {
   "cell_type": "code",
   "execution_count": null,
   "metadata": {
    "collapsed": true
   },
   "outputs": [],
   "source": [
    "sns.barplot('state_binary','category', data=slim_data, color=\"darkturquoise\")\n",
    "plt.show()"
   ]
  },
  {
   "cell_type": "code",
   "execution_count": null,
   "metadata": {
    "collapsed": true
   },
   "outputs": [],
   "source": [
    "sns.barplot('state_binary','country', data=slim_data, color=\"darkturquoise\")\n",
    "plt.show()"
   ]
  },
  {
   "cell_type": "code",
   "execution_count": null,
   "metadata": {
    "collapsed": true
   },
   "outputs": [],
   "source": [
    "plt.figure(figsize=(30,10))\n",
    "sns.barplot('duration', 'state_binary',data=slim_data, color=\"darkturquoise\")\n",
    "plt.show()"
   ]
  },
  {
   "cell_type": "code",
   "execution_count": null,
   "metadata": {
    "collapsed": true
   },
   "outputs": [],
   "source": [
    "data['duration'].describe()"
   ]
  },
  {
   "cell_type": "markdown",
   "metadata": {},
   "source": [
    "Reducing Variance for the goal column"
   ]
  },
  {
   "cell_type": "code",
   "execution_count": null,
   "metadata": {
    "collapsed": true
   },
   "outputs": [],
   "source": [
    "#All goals below 1000 are updated to 1000\n",
    "slim_data.loc[slim_data['goal'] < 1000] = 1000\n",
    "slim_data.loc[slim_data['goal'] > 1000000] = 1000000\n",
    "#slim_data.head(1000)\n",
    "slim_data['goal'].describe()"
   ]
  },
  {
   "cell_type": "code",
   "execution_count": null,
   "metadata": {
    "collapsed": true
   },
   "outputs": [],
   "source": [
    "# Goal histogram.\n",
    "plt.figure(figsize=(30,10))\n",
    "sns.distplot(np.log(data['goal']))\n",
    "#plt.yticks(fig.get_yticks(), fig.get_yticks() * 100000)\n",
    "#plt.ylabel('Distribution [%]', fontsize=16)\n",
    "#plt.xticks(fig.get_xticks(), fig.get_xticks() * 1)\n"
   ]
  },
  {
   "cell_type": "markdown",
   "metadata": {},
   "source": [
    "Hello Word"
   ]
  },
  {
   "cell_type": "markdown",
   "metadata": {},
   "source": [
    "Another revision!!!!!!!"
   ]
  }
 ],
 "metadata": {
  "kernelspec": {
   "display_name": "Python 3",
   "language": "python",
   "name": "python3"
  },
  "language_info": {
   "codemirror_mode": {
    "name": "ipython",
    "version": 3
   },
   "file_extension": ".py",
   "mimetype": "text/x-python",
   "name": "python",
   "nbconvert_exporter": "python",
   "pygments_lexer": "ipython3",
   "version": "3.6.8"
  }
 },
 "nbformat": 4,
 "nbformat_minor": 2
}
