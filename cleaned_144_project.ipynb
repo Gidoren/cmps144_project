{
 "cells": [
  {
   "cell_type": "code",
   "execution_count": 60,
   "metadata": {},
   "outputs": [],
   "source": [
    "import pandas as pd\n",
    "import numpy as np\n",
    "import matplotlib.pyplot as plt\n",
    "\n",
    "from sklearn import preprocessing\n",
    "from sklearn.preprocessing import MinMaxScaler\n",
    "from sklearn.metrics import confusion_matrix\n",
    "from keras.layers.advanced_activations import LeakyReLU, PReLU\n",
    "\n",
    "from sklearn.model_selection import train_test_split \n",
    "from sklearn import metrics\n",
    "\n",
    "from tensorflow import keras\n",
    "from keras.models import Sequential\n",
    "from keras.layers import Dense, Activation\n",
    "from keras import regularizers\n",
    "from keras.layers import Dropout\n",
    "from sklearn.preprocessing import LabelEncoder\n",
    "from sklearn.preprocessing import OneHotEncoder"
   ]
  },
  {
   "cell_type": "code",
   "execution_count": 61,
   "metadata": {
    "collapsed": true
   },
   "outputs": [],
   "source": [
    "data = pd.read_csv('ks-projects-201801.csv')"
   ]
  },
  {
   "cell_type": "code",
   "execution_count": 62,
   "metadata": {},
   "outputs": [],
   "source": [
    "# only use a subset of our whole dataset\n",
    "length = len(data['goal'])\n",
    "subset = length - 20000 # if we only want 20,000 rows\n",
    "\n",
    "data = data.iloc[0:length-subset]"
   ]
  },
  {
   "cell_type": "code",
   "execution_count": 63,
   "metadata": {},
   "outputs": [
    {
     "name": "stdout",
     "output_type": "stream",
     "text": [
      "<class 'pandas.core.frame.DataFrame'>\n",
      "RangeIndex: 20000 entries, 0 to 19999\n",
      "Data columns (total 15 columns):\n",
      "ID                  20000 non-null int64\n",
      "name                20000 non-null object\n",
      "category            20000 non-null object\n",
      "main_category       20000 non-null object\n",
      "currency            20000 non-null object\n",
      "deadline            20000 non-null object\n",
      "goal                20000 non-null float64\n",
      "launched            20000 non-null object\n",
      "pledged             20000 non-null float64\n",
      "state               20000 non-null object\n",
      "backers             20000 non-null int64\n",
      "country             20000 non-null object\n",
      "usd pledged         19784 non-null float64\n",
      "usd_pledged_real    20000 non-null float64\n",
      "usd_goal_real       20000 non-null float64\n",
      "dtypes: float64(5), int64(2), object(8)\n",
      "memory usage: 2.3+ MB\n"
     ]
    }
   ],
   "source": [
    "data.info()"
   ]
  },
  {
   "cell_type": "code",
   "execution_count": 64,
   "metadata": {
    "collapsed": true
   },
   "outputs": [],
   "source": [
    "# number of days between launch data and deadline\n",
    "def duration_of_project():\n",
    "    duration = []\n",
    "    \n",
    "    for launch, deadline in zip(data['launched'], data['deadline']):\n",
    "        \n",
    "        launch = (launch.split())[0]\n",
    "        launchT = [x.strip() for x in launch.split('-')]\n",
    "        deadlineT = [x.strip() for x in deadline.split('-')]\n",
    "    \n",
    "        year_diff = (int(deadlineT[0]) - int(launchT[0]))*365\n",
    "        month_diff = (int(deadlineT[1]) - int(launchT[1]))*30\n",
    "        day_diff = int(deadlineT[2]) - int(launchT[2])\n",
    "    \n",
    "        days_offset = year_diff + month_diff + day_diff\n",
    "        duration.append(days_offset)\n",
    "        \n",
    "    data['duration'] = duration"
   ]
  },
  {
   "cell_type": "code",
   "execution_count": 65,
   "metadata": {
    "collapsed": true
   },
   "outputs": [],
   "source": [
    "duration_of_project()"
   ]
  },
  {
   "cell_type": "code",
   "execution_count": 66,
   "metadata": {},
   "outputs": [
    {
     "name": "stdout",
     "output_type": "stream",
     "text": [
      "157\n"
     ]
    }
   ],
   "source": [
    "#getting unique categories in a list\n",
    "cat = []\n",
    "for i in data['category']:\n",
    "    if i not in cat:\n",
    "        cat.append(i)\n",
    "#creating the unique categories successful mean\n",
    "print(len(cat))\n",
    "BackerMean = [0] * (len(cat) + 1)\n",
    "GoalMean = [0] * (len(cat) + 1)\n",
    "\n",
    "counter = 0\n",
    "for i in cat:\n",
    "    count = 0\n",
    "    total = 0\n",
    "    for j in data['category']:\n",
    "        if j==cat[counter]:\n",
    "            if data['state'][count] == 'successful':\n",
    "                BackerMean[counter] += data['backers'][count]\n",
    "                GoalMean[counter] += data['goal'][count]\n",
    "                total = total + 1\n",
    "        count = count + 1\n",
    "    if BackerMean[counter]!= 0:\n",
    "        BackerMean[counter] = BackerMean[counter]/total\n",
    "        GoalMean[counter] = GoalMean[counter]/total\n",
    "    BackerMean[counter] = round(BackerMean[counter])\n",
    "    GoalMean[counter] = round(GoalMean[counter])\n",
    "    counter = counter + 1"
   ]
  },
  {
   "cell_type": "code",
   "execution_count": 67,
   "metadata": {
    "collapsed": true
   },
   "outputs": [],
   "source": [
    "#Creates a Column stating a binary state on whether or not the project had reached the mean\n",
    "#of backers in its prospective category\n",
    "length = len(data['category'])\n",
    "BackerBinary = [0] * length\n",
    "CategoryMean = [0] * length\n",
    "GoalBinary = [0] * length\n",
    "counter = 0\n",
    "for i in cat:\n",
    "    count = 0\n",
    "    for j in data['category']:\n",
    "        if j == i:\n",
    "            BackerBinary[count] = data['backers'][count] - BackerMean[counter]\n",
    "            GoalBinary[count] = data['goal'][count] - GoalMean[counter]\n",
    "            CategoryMean[count] = BackerMean[counter]\n",
    "            if BackerBinary[count] < 0:\n",
    "                BackerBinary[count] = 0\n",
    "            else:\n",
    "                BackerBinary[count] = 1\n",
    "            if GoalBinary[count] > 0:\n",
    "              GoalBinary[count] = 0\n",
    "            else:\n",
    "              GoalBinary[count] = 1\n",
    "        count = count+1\n",
    "    counter = counter + 1"
   ]
  },
  {
   "cell_type": "code",
   "execution_count": 68,
   "metadata": {
    "collapsed": true
   },
   "outputs": [],
   "source": [
    "data['GoalBinary'] = GoalBinary\n",
    "data['state'].replace(['canceled'], ['failed'], inplace=True)\n",
    "data['state'].replace(['failed', 'successful'], [-1, 1], inplace=True)"
   ]
  },
  {
   "cell_type": "code",
   "execution_count": 69,
   "metadata": {
    "collapsed": true
   },
   "outputs": [],
   "source": [
    "data['state_binary'] = data['state']\n",
    "data['state_binary'].replace([-1, 1], [0, 1], inplace=True)"
   ]
  },
  {
   "cell_type": "code",
   "execution_count": 70,
   "metadata": {
    "collapsed": true
   },
   "outputs": [],
   "source": [
    "slim_data = data.copy()\n",
    "indexNames = slim_data[ (slim_data['state_binary'] != 1) & (slim_data['state_binary'] != 0) ].index\n",
    "slim_data.drop(indexNames , inplace=True)"
   ]
  },
  {
   "cell_type": "code",
   "execution_count": 71,
   "metadata": {
    "collapsed": true
   },
   "outputs": [],
   "source": [
    "# find length of name\n",
    "name_length = []\n",
    "for name in slim_data['name']:\n",
    "    try:\n",
    "        name_length.append(len(name))\n",
    "    except:\n",
    "        name_length.append(0)\n",
    "slim_data['name_len'] = name_length"
   ]
  },
  {
   "cell_type": "code",
   "execution_count": 72,
   "metadata": {},
   "outputs": [],
   "source": [
    "# scale down data columns\n",
    "sc = MinMaxScaler()\n",
    "\n",
    "slim_data['fit_goal'] = sc.fit_transform(slim_data[['goal']])\n",
    "slim_data['fit_name_len'] = sc.fit_transform(slim_data[['name_len']])\n",
    "slim_data['fit_duration'] = sc.fit_transform(slim_data[['duration']])"
   ]
  },
  {
   "cell_type": "code",
   "execution_count": 73,
   "metadata": {
    "collapsed": true
   },
   "outputs": [],
   "source": [
    "training=pd.get_dummies(slim_data, columns=[\"main_category\"])\n",
    "training=pd.get_dummies(training, columns=[\"category\"])\n",
    "training=pd.get_dummies(training, columns=[\"country\"])\n",
    "training=pd.get_dummies(training, columns=[\"currency\"])\n",
    "\n",
    "y = training['state_binary']\n",
    "X = training.loc[:, 'fit_goal':]\n",
    "X['GoalBinary'] = slim_data['GoalBinary']\n",
    "\n",
    "from sklearn.model_selection import train_test_split\n",
    "X_train, X_test, y_train, y_test = train_test_split(X, y, test_size = 0.2, random_state=0)"
   ]
  },
  {
   "cell_type": "code",
   "execution_count": 74,
   "metadata": {},
   "outputs": [
    {
     "name": "stdout",
     "output_type": "stream",
     "text": [
      "Train on 10478 samples, validate on 5161 samples\n",
      "Epoch 1/50\n",
      "10478/10478 [==============================] - 4s 408us/step - loss: 0.6414 - acc: 0.6358 - val_loss: 0.6186 - val_acc: 0.6727\n",
      "Epoch 2/50\n",
      "10478/10478 [==============================] - 3s 249us/step - loss: 0.6172 - acc: 0.6543 - val_loss: 0.6115 - val_acc: 0.6737\n",
      "Epoch 3/50\n",
      "10478/10478 [==============================] - 3s 248us/step - loss: 0.6109 - acc: 0.6709 - val_loss: 0.6164 - val_acc: 0.6663\n",
      "Epoch 4/50\n",
      "10478/10478 [==============================] - 3s 246us/step - loss: 0.6013 - acc: 0.6792 - val_loss: 0.6204 - val_acc: 0.6640\n",
      "Epoch 5/50\n",
      "10478/10478 [==============================] - 3s 280us/step - loss: 0.5943 - acc: 0.6839 - val_loss: 0.6073 - val_acc: 0.6720\n",
      "Epoch 6/50\n",
      "10478/10478 [==============================] - 3s 275us/step - loss: 0.5931 - acc: 0.6871 - val_loss: 0.6108 - val_acc: 0.6700\n",
      "Epoch 7/50\n",
      "10478/10478 [==============================] - 3s 270us/step - loss: 0.5908 - acc: 0.6855 - val_loss: 0.6060 - val_acc: 0.6724\n",
      "Epoch 8/50\n",
      "10478/10478 [==============================] - 3s 289us/step - loss: 0.5874 - acc: 0.6905 - val_loss: 0.6071 - val_acc: 0.6735\n",
      "Epoch 9/50\n",
      "10478/10478 [==============================] - 3s 307us/step - loss: 0.5878 - acc: 0.6906 - val_loss: 0.6135 - val_acc: 0.6720\n",
      "Epoch 10/50\n",
      "10478/10478 [==============================] - 3s 289us/step - loss: 0.5838 - acc: 0.6919 - val_loss: 0.6065 - val_acc: 0.6700\n",
      "Epoch 11/50\n",
      "10478/10478 [==============================] - 3s 287us/step - loss: 0.5819 - acc: 0.6913 - val_loss: 0.6202 - val_acc: 0.6652\n",
      "Epoch 12/50\n",
      "10478/10478 [==============================] - 3s 250us/step - loss: 0.5832 - acc: 0.6942 - val_loss: 0.6088 - val_acc: 0.6698\n",
      "Epoch 13/50\n",
      "10478/10478 [==============================] - 3s 247us/step - loss: 0.5812 - acc: 0.6946 - val_loss: 0.6108 - val_acc: 0.6729\n",
      "Epoch 14/50\n",
      "10478/10478 [==============================] - 3s 246us/step - loss: 0.5783 - acc: 0.6958 - val_loss: 0.6138 - val_acc: 0.6661\n",
      "Epoch 15/50\n",
      "10478/10478 [==============================] - 3s 248us/step - loss: 0.5752 - acc: 0.6952 - val_loss: 0.6149 - val_acc: 0.6681\n",
      "Epoch 16/50\n",
      "10478/10478 [==============================] - 3s 242us/step - loss: 0.5750 - acc: 0.6970 - val_loss: 0.6128 - val_acc: 0.6685\n",
      "Epoch 17/50\n",
      "10478/10478 [==============================] - 3s 248us/step - loss: 0.5722 - acc: 0.6969 - val_loss: 0.6119 - val_acc: 0.6706\n",
      "Epoch 18/50\n",
      "10478/10478 [==============================] - 3s 252us/step - loss: 0.5747 - acc: 0.6974 - val_loss: 0.6117 - val_acc: 0.6691\n",
      "Epoch 19/50\n",
      "10478/10478 [==============================] - 3s 263us/step - loss: 0.5720 - acc: 0.6974 - val_loss: 0.6160 - val_acc: 0.6689\n",
      "Epoch 20/50\n",
      "10478/10478 [==============================] - 3s 243us/step - loss: 0.5688 - acc: 0.6948 - val_loss: 0.6359 - val_acc: 0.6625\n",
      "Epoch 21/50\n",
      "10478/10478 [==============================] - 3s 253us/step - loss: 0.5684 - acc: 0.7006 - val_loss: 0.6217 - val_acc: 0.6698\n",
      "Epoch 22/50\n",
      "10478/10478 [==============================] - 3s 288us/step - loss: 0.5691 - acc: 0.6989 - val_loss: 0.6241 - val_acc: 0.6729\n",
      "Epoch 23/50\n",
      "10478/10478 [==============================] - 3s 258us/step - loss: 0.5643 - acc: 0.7021 - val_loss: 0.6251 - val_acc: 0.6706\n",
      "Epoch 24/50\n",
      "10478/10478 [==============================] - 3s 270us/step - loss: 0.5661 - acc: 0.7010 - val_loss: 0.6267 - val_acc: 0.6720\n",
      "Epoch 25/50\n",
      "10478/10478 [==============================] - 3s 281us/step - loss: 0.5620 - acc: 0.7067 - val_loss: 0.6313 - val_acc: 0.6609\n",
      "Epoch 26/50\n",
      "10478/10478 [==============================] - 3s 284us/step - loss: 0.5625 - acc: 0.7085 - val_loss: 0.6241 - val_acc: 0.6683\n",
      "Epoch 27/50\n",
      "10478/10478 [==============================] - 3s 269us/step - loss: 0.5599 - acc: 0.7063 - val_loss: 0.6347 - val_acc: 0.6640\n",
      "Epoch 28/50\n",
      "10478/10478 [==============================] - 3s 278us/step - loss: 0.5585 - acc: 0.7069 - val_loss: 0.6577 - val_acc: 0.6661\n",
      "Epoch 29/50\n",
      "10478/10478 [==============================] - 3s 267us/step - loss: 0.5591 - acc: 0.7050 - val_loss: 0.6595 - val_acc: 0.6675\n",
      "Epoch 30/50\n",
      "10478/10478 [==============================] - 3s 252us/step - loss: 0.5537 - acc: 0.7078 - val_loss: 0.6763 - val_acc: 0.6665\n",
      "Epoch 31/50\n",
      "10478/10478 [==============================] - 3s 254us/step - loss: 0.5542 - acc: 0.7085 - val_loss: 0.6588 - val_acc: 0.6704\n",
      "Epoch 32/50\n",
      "10478/10478 [==============================] - 3s 268us/step - loss: 0.5589 - acc: 0.7036 - val_loss: 0.6554 - val_acc: 0.6677\n",
      "Epoch 33/50\n",
      "10478/10478 [==============================] - 3s 270us/step - loss: 0.5530 - acc: 0.7043 - val_loss: 0.6674 - val_acc: 0.6696\n",
      "Epoch 34/50\n",
      "10478/10478 [==============================] - 3s 286us/step - loss: 0.5525 - acc: 0.7073 - val_loss: 0.6709 - val_acc: 0.6708\n",
      "Epoch 35/50\n",
      "10478/10478 [==============================] - 3s 273us/step - loss: 0.5489 - acc: 0.7121 - val_loss: 0.6519 - val_acc: 0.6681\n",
      "Epoch 36/50\n",
      "10478/10478 [==============================] - 3s 276us/step - loss: 0.5501 - acc: 0.7115 - val_loss: 0.6682 - val_acc: 0.6677\n",
      "Epoch 37/50\n",
      "10478/10478 [==============================] - 3s 291us/step - loss: 0.5492 - acc: 0.7123 - val_loss: 0.6909 - val_acc: 0.6693\n",
      "Epoch 38/50\n",
      "10478/10478 [==============================] - 3s 284us/step - loss: 0.5518 - acc: 0.7115 - val_loss: 0.6893 - val_acc: 0.6673\n",
      "Epoch 39/50\n",
      "10478/10478 [==============================] - 3s 300us/step - loss: 0.5459 - acc: 0.7138 - val_loss: 0.6995 - val_acc: 0.6683\n",
      "Epoch 40/50\n",
      "10478/10478 [==============================] - 3s 298us/step - loss: 0.5480 - acc: 0.7160 - val_loss: 0.6838 - val_acc: 0.6644\n",
      "Epoch 41/50\n",
      "10478/10478 [==============================] - 3s 262us/step - loss: 0.5435 - acc: 0.7127 - val_loss: 0.7240 - val_acc: 0.6661\n",
      "Epoch 42/50\n",
      "10478/10478 [==============================] - 3s 248us/step - loss: 0.5441 - acc: 0.7112 - val_loss: 0.7184 - val_acc: 0.6698\n",
      "Epoch 43/50\n",
      "10478/10478 [==============================] - 3s 241us/step - loss: 0.5433 - acc: 0.7162 - val_loss: 0.7098 - val_acc: 0.6673\n",
      "Epoch 44/50\n",
      "10478/10478 [==============================] - 3s 247us/step - loss: 0.5490 - acc: 0.7071 - val_loss: 0.6846 - val_acc: 0.6681\n",
      "Epoch 45/50\n",
      "10478/10478 [==============================] - 3s 258us/step - loss: 0.5441 - acc: 0.7142 - val_loss: 0.7088 - val_acc: 0.6660\n",
      "Epoch 46/50\n",
      "10478/10478 [==============================] - 3s 261us/step - loss: 0.5432 - acc: 0.7102 - val_loss: 0.6993 - val_acc: 0.6698\n",
      "Epoch 47/50\n",
      "10478/10478 [==============================] - 3s 264us/step - loss: 0.5432 - acc: 0.7088 - val_loss: 0.7178 - val_acc: 0.6665\n",
      "Epoch 48/50\n",
      "10478/10478 [==============================] - 3s 263us/step - loss: 0.5428 - acc: 0.7110 - val_loss: 0.7169 - val_acc: 0.6665\n",
      "Epoch 49/50\n",
      "10478/10478 [==============================] - 3s 258us/step - loss: 0.5420 - acc: 0.7147 - val_loss: 0.7439 - val_acc: 0.6685\n",
      "Epoch 50/50\n",
      "10478/10478 [==============================] - 3s 255us/step - loss: 0.5385 - acc: 0.7179 - val_loss: 0.7575 - val_acc: 0.6663\n",
      "15639/15639 [==============================] - 1s 59us/step\n",
      "3910/3910 [==============================] - 0s 68us/step\n",
      "Training set accuracy: 0.7081654837456374\n",
      "Test set accuracy: 0.662148337595908\n"
     ]
    }
   ],
   "source": [
    "# build DNN\n",
    "\n",
    "model = Sequential()\n",
    "\n",
    "# input layer\n",
    "model.add(Dense(200, activation='linear', input_dim = 213))\n",
    "model.add(LeakyReLU(alpha=.001))\n",
    "model.add(Dropout(0.5))\n",
    "\n",
    "# second layer\n",
    "model.add(Dense(100, activation='linear'))\n",
    "model.add(LeakyReLU(alpha=.001))\n",
    "model.add(Dropout(0.5))\n",
    "\n",
    "\n",
    "# third layer\n",
    "model.add(Dense(100, activation='linear'))\n",
    "model.add(LeakyReLU(alpha=.001))\n",
    "model.add(Dropout(0.5))\n",
    "\n",
    "\n",
    "# fourth layer\n",
    "model.add(Dense(150, activation='linear'))\n",
    "model.add(LeakyReLU(alpha=.001))\n",
    "model.add(Dropout(0.5))\n",
    "\n",
    "\n",
    "# fith layer\n",
    "model.add(Dense(100, activation='linear'))\n",
    "model.add(LeakyReLU(alpha=.001))\n",
    "model.add(Dropout(0.5))\n",
    "\n",
    "# output layer\n",
    "model.add(Dense(1, activation='sigmoid'))\n",
    "\n",
    "# compile the model using rmsprop opt and mse loss\n",
    "model.compile(optimizer = 'adam',  \n",
    "              loss = 'binary_crossentropy',\n",
    "              metrics = ['accuracy'])\n",
    "\n",
    "# Train the model, iterating on the data in batches of 32 samples\n",
    "history = model.fit(X_train, y_train, \n",
    "                    validation_split = 0.33, \n",
    "                    epochs = 50,\n",
    "                    batch_size = 25)\n",
    "\n",
    "# Evaluate the model's performance\n",
    "train_loss, train_acc = model.evaluate(X_train, y_train)\n",
    "test_loss, test_acc = model.evaluate(X_test, y_test)\n",
    "\n",
    "print('Training set accuracy:', train_acc)\n",
    "print('Test set accuracy:', test_acc)"
   ]
  },
  {
   "cell_type": "code",
   "execution_count": 75,
   "metadata": {},
   "outputs": [
    {
     "data": {
      "image/png": "[encoded data removed]",
      "text/plain": [
       "<matplotlib.figure.Figure at 0x1a200612b0>"
      ]
     },
     "metadata": {},
     "output_type": "display_data"
    }
   ],
   "source": [
    "# The history of our accuracy during training.\n",
    "plt.plot(history.history['acc'])\n",
    "plt.plot(history.history['val_acc'])\n",
    "plt.title('Model Accuracy')\n",
    "plt.ylabel('Accuracy')\n",
    "plt.xlabel('Number of epochs')\n",
    "plt.legend(['train', 'test'], loc='upper left')\n",
    "plt.show()"
   ]
  },
  {
   "cell_type": "code",
   "execution_count": 76,
   "metadata": {},
   "outputs": [
    {
     "data": {
      "image/png": "[encoded data removed]",
      "text/plain": [
       "<matplotlib.figure.Figure at 0x1a256ed4a8>"
      ]
     },
     "metadata": {},
     "output_type": "display_data"
    }
   ],
   "source": [
    "# The history of our cross-entropy loss during training.\n",
    "plt.plot(history.history['loss'])\n",
    "plt.plot(history.history['val_loss'])\n",
    "plt.title('Model Loss')\n",
    "plt.ylabel('Loss')\n",
    "plt.xlabel('Number of epochs')\n",
    "plt.legend(['train', 'test'], loc='upper left')\n",
    "plt.show()"
   ]
  },
  {
   "cell_type": "code",
   "execution_count": 77,
   "metadata": {},
   "outputs": [
    {
     "name": "stdout",
     "output_type": "stream",
     "text": [
      "pos: 1092  | neg: 2818\n",
      "3910\n"
     ]
    }
   ],
   "source": [
    "predictions = model.predict(X_test)\n",
    "y_pred = []\n",
    "neg = pos = 0\n",
    "for pred in predictions:\n",
    "    if pred < 0.5:\n",
    "        neg += 1\n",
    "        y_pred.append(0.0)\n",
    "    else:\n",
    "        pos += 1\n",
    "        y_pred.append(1.0)\n",
    "print(\"pos:\", pos, \" | neg:\", neg)\n",
    "print(len(X_test))"
   ]
  },
  {
   "cell_type": "code",
   "execution_count": 78,
   "metadata": {},
   "outputs": [
    {
     "name": "stdout",
     "output_type": "stream",
     "text": [
      "[[1984  487]\n",
      " [ 834  605]]\n"
     ]
    }
   ],
   "source": [
    "y_true = []\n",
    "for val in y_test:\n",
    "    y_true.append(val)\n",
    "matrix = confusion_matrix(y_true, y_pred)\n",
    "print(matrix)"
   ]
  }
 ],
 "metadata": {
  "kernelspec": {
   "display_name": "Python 3",
   "language": "python",
   "name": "python3"
  },
  "language_info": {
   "codemirror_mode": {
    "name": "ipython",
    "version": 3
   },
   "file_extension": ".py",
   "mimetype": "text/x-python",
   "name": "python",
   "nbconvert_exporter": "python",
   "pygments_lexer": "ipython3",
   "version": "3.6.8"
  }
 },
 "nbformat": 4,
 "nbformat_minor": 2
}
