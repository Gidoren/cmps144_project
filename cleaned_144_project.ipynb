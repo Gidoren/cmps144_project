{
 "cells": [
  {
   "cell_type": "code",
   "execution_count": 1,
   "metadata": {},
   "outputs": [
    {
     "ename": "ModuleNotFoundError",
     "evalue": "No module named 'keras'",
     "output_type": "error",
     "traceback": [
      "\u001b[1;31m---------------------------------------------------------------------------\u001b[0m",
      "\u001b[1;31mModuleNotFoundError\u001b[0m                       Traceback (most recent call last)",
      "\u001b[1;32m<ipython-input-1-6bd8d8bed134>\u001b[0m in \u001b[0;36m<module>\u001b[1;34m\u001b[0m\n\u001b[0;32m      8\u001b[0m \u001b[1;32mfrom\u001b[0m \u001b[0msklearn\u001b[0m\u001b[1;33m.\u001b[0m\u001b[0mpreprocessing\u001b[0m \u001b[1;32mimport\u001b[0m \u001b[0mMinMaxScaler\u001b[0m\u001b[1;33m\u001b[0m\u001b[1;33m\u001b[0m\u001b[0m\n\u001b[0;32m      9\u001b[0m \u001b[1;32mfrom\u001b[0m \u001b[0msklearn\u001b[0m\u001b[1;33m.\u001b[0m\u001b[0mmetrics\u001b[0m \u001b[1;32mimport\u001b[0m \u001b[0mconfusion_matrix\u001b[0m\u001b[1;33m\u001b[0m\u001b[1;33m\u001b[0m\u001b[0m\n\u001b[1;32m---> 10\u001b[1;33m \u001b[1;32mfrom\u001b[0m \u001b[0mkeras\u001b[0m\u001b[1;33m.\u001b[0m\u001b[0mlayers\u001b[0m\u001b[1;33m.\u001b[0m\u001b[0madvanced_activations\u001b[0m \u001b[1;32mimport\u001b[0m \u001b[0mLeakyReLU\u001b[0m\u001b[1;33m,\u001b[0m \u001b[0mPReLU\u001b[0m\u001b[1;33m\u001b[0m\u001b[1;33m\u001b[0m\u001b[0m\n\u001b[0m\u001b[0;32m     11\u001b[0m \u001b[1;33m\u001b[0m\u001b[0m\n\u001b[0;32m     12\u001b[0m \u001b[1;32mfrom\u001b[0m \u001b[0msklearn\u001b[0m\u001b[1;33m.\u001b[0m\u001b[0mmodel_selection\u001b[0m \u001b[1;32mimport\u001b[0m \u001b[0mtrain_test_split\u001b[0m\u001b[1;33m\u001b[0m\u001b[1;33m\u001b[0m\u001b[0m\n",
      "\u001b[1;31mModuleNotFoundError\u001b[0m: No module named 'keras'"
     ]
    }
   ],
   "source": [
    "import pandas as pd\n",
    "import numpy as np\n",
    "import random\n",
    "import time\n",
    "import matplotlib.pyplot as plt\n",
    "\n",
    "from sklearn import preprocessing\n",
    "from sklearn.preprocessing import MinMaxScaler\n",
    "from sklearn.metrics import confusion_matrix\n",
    "from keras.layers.advanced_activations import LeakyReLU, PReLU\n",
    "\n",
    "from sklearn.model_selection import train_test_split \n",
    "from sklearn import metrics\n",
    "from sklearn.utils import class_weight\n",
    "\n",
    "from tensorflow import keras\n",
    "from keras.models import Sequential\n",
    "from keras.layers import Dense, Activation\n",
    "from keras import regularizers\n",
    "from keras.layers import Dropout\n",
    "from sklearn.preprocessing import LabelEncoder\n",
    "from sklearn.preprocessing import OneHotEncoder"
   ]
  },
  {
   "cell_type": "code",
   "execution_count": null,
   "metadata": {},
   "outputs": [],
   "source": [
    "data = pd.read_csv('ks-projects-201801.csv', encoding = 'ISO-8859-1')"
   ]
  },
  {
   "cell_type": "code",
   "execution_count": null,
   "metadata": {},
   "outputs": [],
   "source": [
    "# only use a subset of our whole dataset\n",
    "length = len(data['goal'])\n",
    "subset = length - 20000 # if we only want 20,000 rows\n",
    "\n",
    "data = data.iloc[0:length-subset]"
   ]
  },
  {
   "cell_type": "code",
   "execution_count": 215,
   "metadata": {},
   "outputs": [
    {
     "data": {
      "text/html": [
       "<div>\n",
       "<style scoped>\n",
       "    .dataframe tbody tr th:only-of-type {\n",
       "        vertical-align: middle;\n",
       "    }\n",
       "\n",
       "    .dataframe tbody tr th {\n",
       "        vertical-align: top;\n",
       "    }\n",
       "\n",
       "    .dataframe thead th {\n",
       "        text-align: right;\n",
       "    }\n",
       "</style>\n",
       "<table border=\"1\" class=\"dataframe\">\n",
       "  <thead>\n",
       "    <tr style=\"text-align: right;\">\n",
       "      <th></th>\n",
       "      <th>ID</th>\n",
       "      <th>name</th>\n",
       "      <th>category</th>\n",
       "      <th>main_category</th>\n",
       "      <th>currency</th>\n",
       "      <th>deadline</th>\n",
       "      <th>goal</th>\n",
       "      <th>launched</th>\n",
       "      <th>pledged</th>\n",
       "      <th>state</th>\n",
       "      <th>backers</th>\n",
       "      <th>country</th>\n",
       "      <th>usd pledged</th>\n",
       "      <th>usd_pledged_real</th>\n",
       "      <th>usd_goal_real</th>\n",
       "    </tr>\n",
       "  </thead>\n",
       "  <tbody>\n",
       "    <tr>\n",
       "      <th>0</th>\n",
       "      <td>1000002330</td>\n",
       "      <td>The Songs of Adelaide &amp; Abullah</td>\n",
       "      <td>Poetry</td>\n",
       "      <td>Publishing</td>\n",
       "      <td>GBP</td>\n",
       "      <td>2015-10-09</td>\n",
       "      <td>1000.0</td>\n",
       "      <td>2015-08-11 12:12:28</td>\n",
       "      <td>0.0</td>\n",
       "      <td>failed</td>\n",
       "      <td>0</td>\n",
       "      <td>GB</td>\n",
       "      <td>0.0</td>\n",
       "      <td>0.0</td>\n",
       "      <td>1533.95</td>\n",
       "    </tr>\n",
       "    <tr>\n",
       "      <th>1</th>\n",
       "      <td>1000003930</td>\n",
       "      <td>Greeting From Earth: ZGAC Arts Capsule For ET</td>\n",
       "      <td>Narrative Film</td>\n",
       "      <td>Film &amp; Video</td>\n",
       "      <td>USD</td>\n",
       "      <td>2017-11-01</td>\n",
       "      <td>30000.0</td>\n",
       "      <td>2017-09-02 04:43:57</td>\n",
       "      <td>2421.0</td>\n",
       "      <td>failed</td>\n",
       "      <td>15</td>\n",
       "      <td>US</td>\n",
       "      <td>100.0</td>\n",
       "      <td>2421.0</td>\n",
       "      <td>30000.00</td>\n",
       "    </tr>\n",
       "    <tr>\n",
       "      <th>2</th>\n",
       "      <td>1000004038</td>\n",
       "      <td>Where is Hank?</td>\n",
       "      <td>Narrative Film</td>\n",
       "      <td>Film &amp; Video</td>\n",
       "      <td>USD</td>\n",
       "      <td>2013-02-26</td>\n",
       "      <td>45000.0</td>\n",
       "      <td>2013-01-12 00:20:50</td>\n",
       "      <td>220.0</td>\n",
       "      <td>failed</td>\n",
       "      <td>3</td>\n",
       "      <td>US</td>\n",
       "      <td>220.0</td>\n",
       "      <td>220.0</td>\n",
       "      <td>45000.00</td>\n",
       "    </tr>\n",
       "    <tr>\n",
       "      <th>3</th>\n",
       "      <td>1000007540</td>\n",
       "      <td>ToshiCapital Rekordz Needs Help to Complete Album</td>\n",
       "      <td>Music</td>\n",
       "      <td>Music</td>\n",
       "      <td>USD</td>\n",
       "      <td>2012-04-16</td>\n",
       "      <td>5000.0</td>\n",
       "      <td>2012-03-17 03:24:11</td>\n",
       "      <td>1.0</td>\n",
       "      <td>failed</td>\n",
       "      <td>1</td>\n",
       "      <td>US</td>\n",
       "      <td>1.0</td>\n",
       "      <td>1.0</td>\n",
       "      <td>5000.00</td>\n",
       "    </tr>\n",
       "    <tr>\n",
       "      <th>4</th>\n",
       "      <td>1000011046</td>\n",
       "      <td>Community Film Project: The Art of Neighborhoo...</td>\n",
       "      <td>Film &amp; Video</td>\n",
       "      <td>Film &amp; Video</td>\n",
       "      <td>USD</td>\n",
       "      <td>2015-08-29</td>\n",
       "      <td>19500.0</td>\n",
       "      <td>2015-07-04 08:35:03</td>\n",
       "      <td>1283.0</td>\n",
       "      <td>canceled</td>\n",
       "      <td>14</td>\n",
       "      <td>US</td>\n",
       "      <td>1283.0</td>\n",
       "      <td>1283.0</td>\n",
       "      <td>19500.00</td>\n",
       "    </tr>\n",
       "  </tbody>\n",
       "</table>\n",
       "</div>"
      ],
      "text/plain": [
       "           ID                                               name  \\\n",
       "0  1000002330                    The Songs of Adelaide & Abullah   \n",
       "1  1000003930      Greeting From Earth: ZGAC Arts Capsule For ET   \n",
       "2  1000004038                                     Where is Hank?   \n",
       "3  1000007540  ToshiCapital Rekordz Needs Help to Complete Album   \n",
       "4  1000011046  Community Film Project: The Art of Neighborhoo...   \n",
       "\n",
       "         category main_category currency    deadline     goal  \\\n",
       "0          Poetry    Publishing      GBP  2015-10-09   1000.0   \n",
       "1  Narrative Film  Film & Video      USD  2017-11-01  30000.0   \n",
       "2  Narrative Film  Film & Video      USD  2013-02-26  45000.0   \n",
       "3           Music         Music      USD  2012-04-16   5000.0   \n",
       "4    Film & Video  Film & Video      USD  2015-08-29  19500.0   \n",
       "\n",
       "              launched  pledged     state  backers country  usd pledged  \\\n",
       "0  2015-08-11 12:12:28      0.0    failed        0      GB          0.0   \n",
       "1  2017-09-02 04:43:57   2421.0    failed       15      US        100.0   \n",
       "2  2013-01-12 00:20:50    220.0    failed        3      US        220.0   \n",
       "3  2012-03-17 03:24:11      1.0    failed        1      US          1.0   \n",
       "4  2015-07-04 08:35:03   1283.0  canceled       14      US       1283.0   \n",
       "\n",
       "   usd_pledged_real  usd_goal_real  \n",
       "0               0.0        1533.95  \n",
       "1            2421.0       30000.00  \n",
       "2             220.0       45000.00  \n",
       "3               1.0        5000.00  \n",
       "4            1283.0       19500.00  "
      ]
     },
     "execution_count": 215,
     "metadata": {},
     "output_type": "execute_result"
    }
   ],
   "source": [
    "data.head()"
   ]
  },
  {
   "cell_type": "code",
   "execution_count": 216,
   "metadata": {
    "collapsed": true
   },
   "outputs": [],
   "source": [
    "# number of days between launch data and deadline\n",
    "def duration_of_project():\n",
    "    months[]\n",
    "    duration = []\n",
    "    \n",
    "    for launch, deadline in zip(data['launched'], data['deadline']):\n",
    "        \n",
    "        launch = (launch.split())[0]\n",
    "        launchT = [x.strip() for x in launch.split('-')]\n",
    "        deadlineT = [x.strip() for x in deadline.split('-')]\n",
    "    \n",
    "        year_diff = (int(deadlineT[0]) - int(launchT[0]))*365\n",
    "        month_diff = (int(deadlineT[1]) - int(launchT[1]))*30\n",
    "        day_diff = int(deadlineT[2]) - int(launchT[2])\n",
    "    \n",
    "        days_offset = year_diff + month_diff + day_diff\n",
    "        duration.append(days_offset)\n",
    "        \n",
    "    data['duration'] = duration"
   ]
  },
  {
   "cell_type": "code",
   "execution_count": 217,
   "metadata": {
    "collapsed": true
   },
   "outputs": [],
   "source": [
    "duration_of_project()"
   ]
  },
  {
   "cell_type": "code",
   "execution_count": 218,
   "metadata": {
    "collapsed": true
   },
   "outputs": [],
   "source": [
    "# success rate for each main cat\n",
    "success_rate = {}\n",
    "success_rate['Publishing'] = 32.04\n",
    "success_rate['Film & Video'] = 37.42\n",
    "success_rate['Music'] = 49.72\n",
    "success_rate['Food'] = 25.07\n",
    "success_rate['Design'] = 36.84\n",
    "success_rate['Crafts'] = 24.56\n",
    "success_rate['Games'] = 38.16\n",
    "success_rate['Comics'] = 57.01\n",
    "success_rate['Fashion'] = 26.47\n",
    "success_rate['Theater'] = 59.76\n",
    "success_rate['Art'] = 42.47\n",
    "success_rate['Photography'] = 31.45\n",
    "success_rate['Technology'] = 20.24\n",
    "success_rate['Dance'] = 61.82\n",
    "success_rate['Journalism'] = 22.07"
   ]
  },
  {
   "cell_type": "code",
   "execution_count": 219,
   "metadata": {
    "collapsed": true
   },
   "outputs": [],
   "source": [
    "# successful dollars pledged\n",
    "pos_dollars = {}\n",
    "pos_dollars['Publishing'] = 136.89\n",
    "pos_dollars['Film & Video'] = 362.25\n",
    "pos_dollars['Music'] = 209.19\n",
    "pos_dollars['Food'] = 123.03\n",
    "pos_dollars['Design'] = 823.28\n",
    "pos_dollars['Crafts'] = 14.34\n",
    "pos_dollars['Games'] = 896.69\n",
    "pos_dollars['Comics'] = 84.21\n",
    "pos_dollars['Fashion'] = 143.47\n",
    "pos_dollars['Theater'] = 38.90\n",
    "pos_dollars['Art'] = 96.30\n",
    "pos_dollars['Photography'] = 37.91\n",
    "pos_dollars['Technology'] = 699.06\n",
    "pos_dollars['Dance'] = 13.13\n",
    "pos_dollars['Journalism'] = 13.88"
   ]
  },
  {
   "cell_type": "code",
   "execution_count": null,
   "metadata": {
    "collapsed": true
   },
   "outputs": [],
   "source": [
    "# number of projects funded (in thousands)\n",
    "funded = {}\n",
    "funded['Publishing'] = 14.416\n",
    "funded['Film & Video'] = 26.172\n",
    "funded['Music'] = 29.054\n",
    "funded['Food'] = 6.883\n",
    "funded['Design'] = 13.141\n",
    "funded['Crafts'] = 2.483\n",
    "funded['Games'] = 16.430\n",
    "funded['Comics'] = 7.511\n",
    "funded['Fashion'] = 7.213\n",
    "funded['Theater'] = 6.932\n",
    "funded['Art'] = 13.981\n",
    "funded['Photography'] = 3.665\n",
    "funded['Technology'] = 7.578\n",
    "funded['Dance'] = 2.505\n",
    "funded['Journalism'] = 1.166"
   ]
  },
  {
   "cell_type": "code",
   "execution_count": null,
   "metadata": {},
   "outputs": [
    {
     "name": "stdout",
     "output_type": "stream",
     "text": [
      "Publishing\n",
      "Film & Video\n",
      "Music\n",
      "Food\n",
      "Design\n",
      "Crafts\n",
      "Games\n",
      "Comics\n",
      "Fashion\n",
      "Theater\n",
      "Art\n",
      "Photography\n",
      "Technology\n"
     ]
    }
   ],
   "source": [
    "# add a column that specifies if a project's goal is above the mean  \n",
    "# for its category\n",
    "for cat in data['main_category'].unique():\n",
    "    print(cat)\n",
    "    this_cat = np.where(data['main_category'] == cat)\n",
    "    \n",
    "    # find mean of the category\n",
    "    mean_goal = 0\n",
    "    for row in this_cat[0]:\n",
    "        mean_goal += data.iloc[row]['goal']\n",
    "    mean_goal = mean_goal / len(this_cat[0])\n",
    "    \n",
    "    for row in this_cat[0]:\n",
    "        # add column for mean of goal of each category\n",
    "        data.loc[data.index[row], 'cat_mean'] = mean_goal\n",
    "        \n",
    "        # add column for success rate\n",
    "        data.loc[data.index[row], 'success_rate'] = success_rate[cat]\n",
    "        \n",
    "        # add column for positive dollars raised\n",
    "        data.loc[data.index[row], 'pos_dollars'] = pos_dollars[cat]\n",
    "        \n",
    "        # add column for funded projects in category\n",
    "        data.loc[data.index[row], 'funded_in_cat'] = funded[cat]\n",
    "        \n",
    "        # add column for diff of mean and current\n",
    "        goal_diff = mean_goal - data.iloc[row]['goal']\n",
    "        data.loc[data.index[row], 'cat_goal_diff'] = goal_diff"
   ]
  },
  {
   "cell_type": "code",
   "execution_count": null,
   "metadata": {},
   "outputs": [],
   "source": [
    "# same as above but for specific category\n",
    "pos = 0\n",
    "neg = 0\n",
    "for cat in data['category'].unique():\n",
    "    #print(cat)\n",
    "    this_cat = np.where(data['category'] == cat)\n",
    "    \n",
    "    # find mean of the category\n",
    "    mean_goal = 0\n",
    "    mean_backers = 0\n",
    "    for row in this_cat[0]:\n",
    "        mean_goal += data.iloc[row]['goal']\n",
    "        mean_backers += data.iloc[row]['backers']\n",
    "    mean_goal = mean_goal / len(this_cat[0])\n",
    "    mean_backers = mean_backers / len(this_cat[0])\n",
    "    \n",
    "    for row in this_cat[0]:\n",
    "        goal_diff = mean_goal - data.iloc[row]['goal']\n",
    "        data.loc[data.index[row], 'm_cat_goal_diff'] = goal_diff\n",
    "        \n",
    "        if data.iloc[row]['backers'] > mean_backers*0.8:\n",
    "            data.loc[data.index[row], 'mean_backer_binary'] = 1\n",
    "            pos += 1\n",
    "        else:\n",
    "            data.loc[data.index[row], 'mean_backer_binary'] = 0\n",
    "            neg += 1\n",
    "            \n",
    "print(pos)\n",
    "print(neg)"
   ]
  },
  {
   "cell_type": "code",
   "execution_count": null,
   "metadata": {},
   "outputs": [],
   "source": [
    "data.head()"
   ]
  },
  {
   "cell_type": "code",
   "execution_count": null,
   "metadata": {},
   "outputs": [],
   "source": [
    "data.info()"
   ]
  },
  {
   "cell_type": "code",
   "execution_count": null,
   "metadata": {
    "collapsed": true
   },
   "outputs": [],
   "source": [
    "#data['GoalBinary'] = GoalBinary\n",
    "data['state'].replace(['canceled'], ['failed'], inplace=True)\n",
    "data['state'].replace(['failed', 'successful'], [-1, 1], inplace=True)"
   ]
  },
  {
   "cell_type": "code",
   "execution_count": null,
   "metadata": {
    "collapsed": true
   },
   "outputs": [],
   "source": [
    "data['state_binary'] = data['state']\n",
    "data['state_binary'].replace([-1, 1], [0, 1], inplace=True)"
   ]
  },
  {
   "cell_type": "code",
   "execution_count": null,
   "metadata": {
    "collapsed": true
   },
   "outputs": [],
   "source": [
    "slim_data = data.copy()\n",
    "indexNames = slim_data[ (slim_data['state_binary'] != 1) & (slim_data['state_binary'] != 0) ].index\n",
    "slim_data.drop(indexNames , inplace=True)"
   ]
  },
  {
   "cell_type": "code",
   "execution_count": null,
   "metadata": {
    "collapsed": true
   },
   "outputs": [],
   "source": [
    "# find length of name\n",
    "name_length = []\n",
    "for name in slim_data['name']:\n",
    "    try:\n",
    "        name_length.append(len(name))\n",
    "    except:\n",
    "        name_length.append(0)\n",
    "slim_data['name_len'] = name_length"
   ]
  },
  {
   "cell_type": "code",
   "execution_count": null,
   "metadata": {
    "collapsed": true
   },
   "outputs": [],
   "source": [
    "# scale down data columns\n",
    "sc = MinMaxScaler()\n",
    "\n",
    "slim_data['fit_goal'] = sc.fit_transform(slim_data[['goal']])\n",
    "slim_data['fit_name_len'] = sc.fit_transform(slim_data[['name_len']])\n",
    "slim_data['fit_duration'] = sc.fit_transform(slim_data[['duration']])\n",
    "slim_data['fit_cat_mean'] = sc.fit_transform(slim_data[['cat_mean']])\n",
    "slim_data['fit_goal_diff'] = sc.fit_transform(slim_data[['cat_goal_diff']])\n",
    "slim_data['fit_m_cat_goal'] = sc.fit_transform(slim_data[['m_cat_goal_diff']])\n",
    "slim_data['fit_s_rate'] = sc.fit_transform(slim_data[['success_rate']])\n",
    "slim_data['fit_pos_dollars'] = sc.fit_transform(slim_data[['pos_dollars']])\n",
    "slim_data['fit_funded'] = sc.fit_transform(slim_data[['funded_in_cat']])"
   ]
  },
  {
   "cell_type": "code",
   "execution_count": null,
   "metadata": {
    "collapsed": true
   },
   "outputs": [],
   "source": [
    "training=pd.get_dummies(slim_data, columns=[\"main_category\"])\n",
    "training=pd.get_dummies(training, columns=[\"category\"])\n",
    "training=pd.get_dummies(training, columns=[\"country\"])\n",
    "training=pd.get_dummies(training, columns=[\"currency\"])\n",
    "\n",
    "#y = slim_data['state_binary']\n",
    "y = slim_data['mean_backer_binary']\n",
    "X = training.loc[:, 'fit_goal':]\n",
    "\n",
    "from sklearn.model_selection import train_test_split\n",
    "X_train, X_test, y_train, y_test = train_test_split(X, y, test_size = 0.2, random_state=0)"
   ]
  },
  {
   "cell_type": "code",
   "execution_count": null,
   "metadata": {},
   "outputs": [],
   "source": [
    "X.head()"
   ]
  },
  {
   "cell_type": "code",
   "execution_count": null,
   "metadata": {},
   "outputs": [],
   "source": [
    "y.head()"
   ]
  },
  {
   "cell_type": "code",
   "execution_count": null,
   "metadata": {
    "scrolled": false
   },
   "outputs": [],
   "source": [
    "# build DNN\n",
    "\n",
    "model = Sequential()  # sequential layered network\n",
    "dims = len(X.columns) # dimension of the input data\n",
    "\n",
    "class_weights = class_weight.compute_class_weight('balanced', \n",
    "                                                  np.unique(y_train), \n",
    "                                                  y_train)\n",
    "\n",
    "# input layer\n",
    "model.add(Dense(100, activation='linear', input_dim = dims))\n",
    "model.add(LeakyReLU(alpha=.001))\n",
    "model.add(Dropout(0.5))\n",
    "\n",
    "# second layer\n",
    "model.add(Dense(100, activation='linear'))\n",
    "model.add(LeakyReLU(alpha=.001))\n",
    "model.add(Dropout(0.5))\n",
    "\n",
    "\n",
    "# third layer\n",
    "model.add(Dense(100, activation='linear'))\n",
    "model.add(LeakyReLU(alpha=.001))\n",
    "model.add(Dropout(0.5))\n",
    "\n",
    "\n",
    "# fourth layer\n",
    "model.add(Dense(85, activation='linear'))\n",
    "model.add(LeakyReLU(alpha=.001))\n",
    "model.add(Dropout(0.5))\n",
    "\n",
    "\n",
    "# fith layer\n",
    "model.add(Dense(75, activation='linear'))\n",
    "model.add(LeakyReLU(alpha=.001))\n",
    "model.add(Dropout(0.5))\n",
    "\n",
    "# output layer\n",
    "model.add(Dense(1, activation='sigmoid'))\n",
    "\n",
    "# compile the model using rmsprop opt and mse loss\n",
    "model.compile(optimizer = 'adam',  \n",
    "              loss = 'mse',\n",
    "              metrics = ['accuracy'])\n",
    "\n",
    "# Train the model, iterating on the data in batches of 32 samples\n",
    "history = model.fit(X_train, y_train, \n",
    "                    validation_split = 0.33, \n",
    "                    epochs = 20,\n",
    "                    class_weight = class_weights,\n",
    "                    batch_size = 35)\n",
    "\n",
    "# Evaluate the model's performance\n",
    "train_loss, train_acc = model.evaluate(X_train, y_train)\n",
    "test_loss, test_acc = model.evaluate(X_test, y_test)\n",
    "\n",
    "print('Training set accuracy:', train_acc)\n",
    "print('Test set accuracy:', test_acc)"
   ]
  },
  {
   "cell_type": "code",
   "execution_count": null,
   "metadata": {},
   "outputs": [],
   "source": [
    "# The history of our accuracy during training.\n",
    "plt.plot(history.history['acc'])\n",
    "plt.plot(history.history['val_acc'])\n",
    "plt.title('Model Accuracy')\n",
    "plt.ylabel('Accuracy')\n",
    "plt.xlabel('Number of epochs')\n",
    "plt.legend(['train', 'test'], loc='upper left')\n",
    "plt.show()"
   ]
  },
  {
   "cell_type": "code",
   "execution_count": null,
   "metadata": {},
   "outputs": [],
   "source": [
    "backer_mean = model.predict(X)\n",
    "\n",
    "X2 = X.copy()\n",
    "X2['backer_mean_pred'] = backer_mean\n",
    "\n",
    "y2 = slim_data['state_binary']\n",
    "X2_train, X2_test, y2_train, y2_test = train_test_split(X2, y2, test_size = 0.2, random_state=0)\n",
    "X2.head()"
   ]
  },
  {
   "cell_type": "code",
   "execution_count": null,
   "metadata": {},
   "outputs": [],
   "source": [
    "# build DNN\n",
    "\n",
    "model2 = Sequential()  # sequential layered network\n",
    "dims = len(X2.columns) # dimension of the input data\n",
    "\n",
    "# input layer\n",
    "model2.add(Dense(100, activation='linear', input_dim = dims))\n",
    "model2.add(LeakyReLU(alpha=.001))\n",
    "model2.add(Dropout(0.5))\n",
    "\n",
    "# second layer\n",
    "model2.add(Dense(100, activation='linear'))\n",
    "model2.add(LeakyReLU(alpha=.001))\n",
    "model2.add(Dropout(0.5))\n",
    "\n",
    "\n",
    "# third layer\n",
    "model2.add(Dense(100, activation='linear'))\n",
    "model2.add(LeakyReLU(alpha=.001))\n",
    "model2.add(Dropout(0.5))\n",
    "\n",
    "\n",
    "# fourth layer\n",
    "model2.add(Dense(85, activation='linear'))\n",
    "model2.add(LeakyReLU(alpha=.001))\n",
    "model2.add(Dropout(0.5))\n",
    "\n",
    "\n",
    "# fith layer\n",
    "model2.add(Dense(75, activation='linear'))\n",
    "model2.add(LeakyReLU(alpha=.001))\n",
    "model2.add(Dropout(0.5))\n",
    "\n",
    "# output layer\n",
    "model2.add(Dense(1, activation='sigmoid'))\n",
    "\n",
    "# compile the model using rmsprop opt and mse loss\n",
    "model2.compile(optimizer = 'adam',  \n",
    "              loss = 'mse',\n",
    "              metrics = ['accuracy'])\n",
    "\n",
    "# Train the model, iterating on the data in batches of 32 samples\n",
    "history = model2.fit(X2_train, y2_train, \n",
    "                    validation_split = 0.33, \n",
    "                    epochs = 50,\n",
    "                    batch_size = 35)\n",
    "\n",
    "# Evaluate the model's performance\n",
    "train_loss, train_acc = model2.evaluate(X2_train, y2_train)\n",
    "test_loss, test_acc = model2.evaluate(X2_test, y2_test)\n",
    "\n",
    "print('Training set accuracy:', train_acc)\n",
    "print('Test set accuracy:', test_acc)"
   ]
  },
  {
   "cell_type": "code",
   "execution_count": null,
   "metadata": {},
   "outputs": [],
   "source": [
    "# The history of our accuracy during training.\n",
    "plt.plot(history.history['acc'])\n",
    "plt.plot(history.history['val_acc'])\n",
    "plt.title('Model Accuracy')\n",
    "plt.ylabel('Accuracy')\n",
    "plt.xlabel('Number of epochs')\n",
    "plt.legend(['train', 'test'], loc='upper left')\n",
    "plt.show()"
   ]
  },
  {
   "cell_type": "code",
   "execution_count": null,
   "metadata": {},
   "outputs": [],
   "source": [
    "# The history of our cross-entropy loss during training.\n",
    "plt.plot(history.history['loss'])\n",
    "plt.plot(history.history['val_loss'])\n",
    "plt.title('Model Loss')\n",
    "plt.ylabel('Loss')\n",
    "plt.xlabel('Number of epochs')\n",
    "plt.legend(['train', 'test'], loc='upper left')\n",
    "plt.show()"
   ]
  },
  {
   "cell_type": "code",
   "execution_count": null,
   "metadata": {},
   "outputs": [],
   "source": [
    "predictions = model2.predict(X2_test)\n",
    "y_pred = []\n",
    "neg = pos = 0\n",
    "for pred in predictions:\n",
    "    if pred < 0.5:\n",
    "        neg += 1\n",
    "        y_pred.append(0.0)\n",
    "    else:\n",
    "        pos += 1\n",
    "        y_pred.append(1.0)\n",
    "print(\"pos:\", pos, \" | neg:\", neg)\n",
    "print(len(X_test))"
   ]
  },
  {
   "cell_type": "code",
   "execution_count": null,
   "metadata": {},
   "outputs": [],
   "source": [
    "y_true = []\n",
    "for val in y2_test:\n",
    "    y_true.append(val)\n",
    "matrix = confusion_matrix(y_true, y_pred)\n",
    "print(matrix)"
   ]
  }
 ],
 "metadata": {
  "kernelspec": {
   "display_name": "Python 3",
   "language": "python",
   "name": "python3"
  },
  "language_info": {
   "codemirror_mode": {
    "name": "ipython",
    "version": 3
   },
   "file_extension": ".py",
   "mimetype": "text/x-python",
   "name": "python",
   "nbconvert_exporter": "python",
   "pygments_lexer": "ipython3",
   "version": "3.7.2"
  }
 },
 "nbformat": 4,
 "nbformat_minor": 2
}
