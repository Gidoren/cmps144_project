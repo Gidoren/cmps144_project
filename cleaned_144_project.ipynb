{
 "cells": [
  {
   "cell_type": "code",
   "execution_count": 1,
   "metadata": {},
   "outputs": [
    {
     "name": "stderr",
     "output_type": "stream",
     "text": [
      "/Users/codyhartsook/anaconda3/lib/python3.6/site-packages/h5py/__init__.py:34: FutureWarning: Conversion of the second argument of issubdtype from `float` to `np.floating` is deprecated. In future, it will be treated as `np.float64 == np.dtype(float).type`.\n",
      "  from ._conv import register_converters as _register_converters\n",
      "Using TensorFlow backend.\n"
     ]
    }
   ],
   "source": [
    "import pandas as pd\n",
    "import numpy as np\n",
    "import matplotlib.pyplot as plt\n",
    "\n",
    "from googlesearch import search\n",
    "from lxml import html\n",
    "import requests\n",
    "from bs4 import BeautifulSoup\n",
    "\n",
    "from sklearn import preprocessing\n",
    "from sklearn.preprocessing import MinMaxScaler\n",
    "from sklearn.metrics import confusion_matrix\n",
    "from keras.layers.advanced_activations import LeakyReLU, PReLU\n",
    "\n",
    "from sklearn.model_selection import train_test_split \n",
    "from sklearn import metrics\n",
    "\n",
    "from tensorflow import keras\n",
    "from keras.models import Sequential\n",
    "from keras.layers import Dense, Activation\n",
    "from keras import regularizers\n",
    "from keras.layers import Dropout\n",
    "from sklearn.preprocessing import LabelEncoder\n",
    "from sklearn.preprocessing import OneHotEncoder"
   ]
  },
  {
   "cell_type": "code",
   "execution_count": 2,
   "metadata": {
    "collapsed": true
   },
   "outputs": [],
   "source": [
    "data = pd.read_csv('ks-projects-201801.csv')"
   ]
  },
  {
   "cell_type": "code",
   "execution_count": 3,
   "metadata": {
    "collapsed": true
   },
   "outputs": [],
   "source": [
    "# only use a subset of our whole dataset\n",
    "length = len(data['goal'])\n",
    "subset = length - 10000 # if we only want 20,000 rows\n",
    "\n",
    "data = data.iloc[0:length-subset]"
   ]
  },
  {
   "cell_type": "code",
   "execution_count": 4,
   "metadata": {},
   "outputs": [
    {
     "name": "stdout",
     "output_type": "stream",
     "text": [
      "<class 'pandas.core.frame.DataFrame'>\n",
      "RangeIndex: 10000 entries, 0 to 9999\n",
      "Data columns (total 15 columns):\n",
      "ID                  10000 non-null int64\n",
      "name                10000 non-null object\n",
      "category            10000 non-null object\n",
      "main_category       10000 non-null object\n",
      "currency            10000 non-null object\n",
      "deadline            10000 non-null object\n",
      "goal                10000 non-null float64\n",
      "launched            10000 non-null object\n",
      "pledged             10000 non-null float64\n",
      "state               10000 non-null object\n",
      "backers             10000 non-null int64\n",
      "country             10000 non-null object\n",
      "usd pledged         9898 non-null float64\n",
      "usd_pledged_real    10000 non-null float64\n",
      "usd_goal_real       10000 non-null float64\n",
      "dtypes: float64(5), int64(2), object(8)\n",
      "memory usage: 1.1+ MB\n"
     ]
    }
   ],
   "source": [
    "data.info()"
   ]
  },
  {
   "cell_type": "code",
   "execution_count": 12,
   "metadata": {},
   "outputs": [
    {
     "data": {
      "text/html": [
       "<div>\n",
       "<style scoped>\n",
       "    .dataframe tbody tr th:only-of-type {\n",
       "        vertical-align: middle;\n",
       "    }\n",
       "\n",
       "    .dataframe tbody tr th {\n",
       "        vertical-align: top;\n",
       "    }\n",
       "\n",
       "    .dataframe thead th {\n",
       "        text-align: right;\n",
       "    }\n",
       "</style>\n",
       "<table border=\"1\" class=\"dataframe\">\n",
       "  <thead>\n",
       "    <tr style=\"text-align: right;\">\n",
       "      <th></th>\n",
       "      <th>ID</th>\n",
       "      <th>name</th>\n",
       "      <th>category</th>\n",
       "      <th>main_category</th>\n",
       "      <th>currency</th>\n",
       "      <th>deadline</th>\n",
       "      <th>goal</th>\n",
       "      <th>launched</th>\n",
       "      <th>pledged</th>\n",
       "      <th>state</th>\n",
       "      <th>backers</th>\n",
       "      <th>country</th>\n",
       "      <th>usd pledged</th>\n",
       "      <th>usd_pledged_real</th>\n",
       "      <th>usd_goal_real</th>\n",
       "    </tr>\n",
       "  </thead>\n",
       "  <tbody>\n",
       "    <tr>\n",
       "      <th>40</th>\n",
       "      <td>1000149007</td>\n",
       "      <td>Unschooling To University Book Project</td>\n",
       "      <td>Nonfiction</td>\n",
       "      <td>Publishing</td>\n",
       "      <td>CAD</td>\n",
       "      <td>2018-01-19</td>\n",
       "      <td>3000.0</td>\n",
       "      <td>2017-11-20 18:15:14</td>\n",
       "      <td>592.0</td>\n",
       "      <td>live</td>\n",
       "      <td>24</td>\n",
       "      <td>CA</td>\n",
       "      <td>185.65</td>\n",
       "      <td>472.88</td>\n",
       "      <td>2396.36</td>\n",
       "    </tr>\n",
       "    <tr>\n",
       "      <th>183</th>\n",
       "      <td>1000761521</td>\n",
       "      <td>KILOS.</td>\n",
       "      <td>Thrillers</td>\n",
       "      <td>Film &amp; Video</td>\n",
       "      <td>USD</td>\n",
       "      <td>2018-02-06</td>\n",
       "      <td>5000.0</td>\n",
       "      <td>2017-12-23 20:34:31</td>\n",
       "      <td>310.0</td>\n",
       "      <td>live</td>\n",
       "      <td>4</td>\n",
       "      <td>US</td>\n",
       "      <td>200.00</td>\n",
       "      <td>310.00</td>\n",
       "      <td>5000.00</td>\n",
       "    </tr>\n",
       "    <tr>\n",
       "      <th>458</th>\n",
       "      <td>1002183790</td>\n",
       "      <td>The Man in the Field</td>\n",
       "      <td>Horror</td>\n",
       "      <td>Film &amp; Video</td>\n",
       "      <td>GBP</td>\n",
       "      <td>2018-01-08</td>\n",
       "      <td>850.0</td>\n",
       "      <td>2017-12-21 11:19:18</td>\n",
       "      <td>413.0</td>\n",
       "      <td>live</td>\n",
       "      <td>11</td>\n",
       "      <td>GB</td>\n",
       "      <td>13.39</td>\n",
       "      <td>563.32</td>\n",
       "      <td>1159.38</td>\n",
       "    </tr>\n",
       "    <tr>\n",
       "      <th>537</th>\n",
       "      <td>1002599057</td>\n",
       "      <td>Dear Atlantas</td>\n",
       "      <td>Film &amp; Video</td>\n",
       "      <td>Film &amp; Video</td>\n",
       "      <td>USD</td>\n",
       "      <td>2018-02-16</td>\n",
       "      <td>2000.0</td>\n",
       "      <td>2017-12-18 02:48:27</td>\n",
       "      <td>5.0</td>\n",
       "      <td>live</td>\n",
       "      <td>1</td>\n",
       "      <td>US</td>\n",
       "      <td>5.00</td>\n",
       "      <td>5.00</td>\n",
       "      <td>2000.00</td>\n",
       "    </tr>\n",
       "    <tr>\n",
       "      <th>544</th>\n",
       "      <td>1002629894</td>\n",
       "      <td>Art Calendar 2018</td>\n",
       "      <td>Illustration</td>\n",
       "      <td>Art</td>\n",
       "      <td>MXN</td>\n",
       "      <td>2018-01-06</td>\n",
       "      <td>1000.0</td>\n",
       "      <td>2017-12-21 05:34:12</td>\n",
       "      <td>0.0</td>\n",
       "      <td>live</td>\n",
       "      <td>0</td>\n",
       "      <td>MX</td>\n",
       "      <td>0.00</td>\n",
       "      <td>0.00</td>\n",
       "      <td>52.32</td>\n",
       "    </tr>\n",
       "  </tbody>\n",
       "</table>\n",
       "</div>"
      ],
      "text/plain": [
       "             ID                                    name      category  \\\n",
       "40   1000149007  Unschooling To University Book Project    Nonfiction   \n",
       "183  1000761521                                  KILOS.     Thrillers   \n",
       "458  1002183790                    The Man in the Field        Horror   \n",
       "537  1002599057                           Dear Atlantas  Film & Video   \n",
       "544  1002629894                       Art Calendar 2018  Illustration   \n",
       "\n",
       "    main_category currency    deadline    goal             launched  pledged  \\\n",
       "40     Publishing      CAD  2018-01-19  3000.0  2017-11-20 18:15:14    592.0   \n",
       "183  Film & Video      USD  2018-02-06  5000.0  2017-12-23 20:34:31    310.0   \n",
       "458  Film & Video      GBP  2018-01-08   850.0  2017-12-21 11:19:18    413.0   \n",
       "537  Film & Video      USD  2018-02-16  2000.0  2017-12-18 02:48:27      5.0   \n",
       "544           Art      MXN  2018-01-06  1000.0  2017-12-21 05:34:12      0.0   \n",
       "\n",
       "    state  backers country  usd pledged  usd_pledged_real  usd_goal_real  \n",
       "40   live       24      CA       185.65            472.88        2396.36  \n",
       "183  live        4      US       200.00            310.00        5000.00  \n",
       "458  live       11      GB        13.39            563.32        1159.38  \n",
       "537  live        1      US         5.00              5.00        2000.00  \n",
       "544  live        0      MX         0.00              0.00          52.32  "
      ]
     },
     "execution_count": 12,
     "metadata": {},
     "output_type": "execute_result"
    }
   ],
   "source": [
    "live_data = data.loc[data['state'] == 'live']\n",
    "live_data.head()"
   ]
  },
  {
   "cell_type": "code",
   "execution_count": null,
   "metadata": {
    "collapsed": true
   },
   "outputs": [],
   "source": [
    "def scrape(url):\n",
    "    resp = requests.get(url)\n",
    "    soup = BeautifulSoup(resp.text, 'lxml')\n",
    "    \n",
    "    header = soup.find_all('h3')\n",
    "    if len(header) > 0:\n",
    "    \n",
    "        rewards = []\n",
    "        count = 0\n",
    "        vid = 0\n",
    "        for elem in header:\n",
    "            line = str(elem)\n",
    "            \n",
    "            if line.find(\"pledge__title\") >= 0:\n",
    "                reward_obj = line.split(\"\\n\")\n",
    "                #rewards.append(reward_obj[1])\n",
    "                count += 1\n",
    "            elif line.find(\"</video>\") >= 0:\n",
    "                vid += 1\n",
    "        return count, vid\n",
    "    else:\n",
    "        return 0, 0"
   ]
  },
  {
   "cell_type": "code",
   "execution_count": null,
   "metadata": {},
   "outputs": [],
   "source": [
    "itr = 0\n",
    "reward_num = []\n",
    "vid_num = []\n",
    "to_delete = []\n",
    "\n",
    "for name in data['name']:\n",
    "    query = \"www.kickstarter.com/projects/\" + str(name)\n",
    "\n",
    "    valid  = False\n",
    "    reward = 0\n",
    "    vid = 0\n",
    "    \n",
    "    if itr % 4 == 0:\n",
    "        delay = random.randint(3, 8)\n",
    "        time.sleep(delay)\n",
    "    \n",
    "    delay = 1\n",
    "    time.sleep(delay)\n",
    "    \n",
    "    try:\n",
    "        failed = 0\n",
    "        for j in search(query, tld=\"co.in\", num=2, stop=1, pause=1): \n",
    "            if str(j).find(\"www.kickstarter.com\") >= 0:\n",
    "                valid = True\n",
    "\n",
    "            reward, video = scrape(j)\n",
    "                if reward > 0:\n",
    "                    break\n",
    "        if valid == False:\n",
    "            # delete itr row from dataset since it was not found on kickstarter\n",
    "            to_delete.append(itr)\n",
    "            itr += 1\n",
    "            continue\n",
    "    \n",
    "    except:\n",
    "        print(\"failed\")\n",
    "        # delay the process\n",
    "        delay = 150\n",
    "        time.sleep(delay)\n",
    "        print(\"continue\")\n",
    "        \n",
    "        failed = 1\n",
    "        to_delete.append(itr)\n",
    "        \n",
    "    print(reward)\n",
    "    print(vid)\n",
    "    reward_num.append(reward)\n",
    "    vid_num.append(vid)\n",
    "    itr += 1\n",
    "    \n",
    "data['pledge_rewards'] = reward_num\n",
    "data['vid_num'] = vid_num\n",
    "for row in to_delete:\n",
    "    data = data.drop(data.index[row])"
   ]
  },
  {
   "cell_type": "code",
   "execution_count": null,
   "metadata": {
    "collapsed": true
   },
   "outputs": [],
   "source": [
    "# number of days between launch data and deadline\n",
    "def duration_of_project():\n",
    "    duration = []\n",
    "    \n",
    "    for launch, deadline in zip(data['launched'], data['deadline']):\n",
    "        \n",
    "        launch = (launch.split())[0]\n",
    "        launchT = [x.strip() for x in launch.split('-')]\n",
    "        deadlineT = [x.strip() for x in deadline.split('-')]\n",
    "    \n",
    "        year_diff = (int(deadlineT[0]) - int(launchT[0]))*365\n",
    "        month_diff = (int(deadlineT[1]) - int(launchT[1]))*30\n",
    "        day_diff = int(deadlineT[2]) - int(launchT[2])\n",
    "    \n",
    "        days_offset = year_diff + month_diff + day_diff\n",
    "        duration.append(days_offset)\n",
    "        \n",
    "    data['duration'] = duration"
   ]
  },
  {
   "cell_type": "code",
   "execution_count": null,
   "metadata": {
    "collapsed": true
   },
   "outputs": [],
   "source": [
    "duration_of_project()"
   ]
  },
  {
   "cell_type": "code",
   "execution_count": null,
   "metadata": {},
   "outputs": [],
   "source": [
    "#add_scraped()"
   ]
  },
  {
   "cell_type": "code",
   "execution_count": null,
   "metadata": {},
   "outputs": [],
   "source": [
    "#getting unique categories in a list\n",
    "cat = []\n",
    "for i in data['category']:\n",
    "    if i not in cat:\n",
    "        cat.append(i)\n",
    "#creating the unique categories successful mean\n",
    "print(len(cat))\n",
    "BackerMean = [0] * (len(cat) + 1)\n",
    "GoalMean = [0] * (len(cat) + 1)\n",
    "\n",
    "counter = 0\n",
    "for i in cat:\n",
    "    count = 0\n",
    "    total = 0\n",
    "    for j in data['category']:\n",
    "        if j==cat[counter]:\n",
    "            if data['state'][count] == 'successful':\n",
    "                BackerMean[counter] += data['backers'][count]\n",
    "                GoalMean[counter] += data['goal'][count]\n",
    "                total = total + 1\n",
    "        count = count + 1\n",
    "    if BackerMean[counter]!= 0:\n",
    "        BackerMean[counter] = BackerMean[counter]/total\n",
    "        GoalMean[counter] = GoalMean[counter]/total\n",
    "    BackerMean[counter] = round(BackerMean[counter])\n",
    "    GoalMean[counter] = round(GoalMean[counter])\n",
    "    counter = counter + 1"
   ]
  },
  {
   "cell_type": "code",
   "execution_count": null,
   "metadata": {
    "collapsed": true
   },
   "outputs": [],
   "source": [
    "#Creates a Column stating a binary state on whether or not the project had reached the mean\n",
    "#of backers in its prospective category\n",
    "length = len(data['category'])\n",
    "BackerBinary = [0] * length\n",
    "CategoryMean = [0] * length\n",
    "GoalBinary = [0] * length\n",
    "counter = 0\n",
    "for i in cat:\n",
    "    count = 0\n",
    "    for j in data['category']:\n",
    "        if j == i:\n",
    "            BackerBinary[count] = data['backers'][count] - BackerMean[counter]\n",
    "            GoalBinary[count] = data['goal'][count] - GoalMean[counter]\n",
    "            CategoryMean[count] = BackerMean[counter]\n",
    "            if BackerBinary[count] < 0:\n",
    "                BackerBinary[count] = 0\n",
    "            else:\n",
    "                BackerBinary[count] = 1\n",
    "            if GoalBinary[count] > 0:\n",
    "              GoalBinary[count] = 0\n",
    "            else:\n",
    "              GoalBinary[count] = 1\n",
    "        count = count+1\n",
    "    counter = counter + 1"
   ]
  },
  {
   "cell_type": "code",
   "execution_count": null,
   "metadata": {
    "collapsed": true
   },
   "outputs": [],
   "source": [
    "data['GoalBinary'] = GoalBinary\n",
    "data['state'].replace(['canceled'], ['failed'], inplace=True)\n",
    "data['state'].replace(['failed', 'successful'], [-1, 1], inplace=True)"
   ]
  },
  {
   "cell_type": "code",
   "execution_count": null,
   "metadata": {
    "collapsed": true
   },
   "outputs": [],
   "source": [
    "data['state_binary'] = data['state']\n",
    "data['state_binary'].replace([-1, 1], [0, 1], inplace=True)"
   ]
  },
  {
   "cell_type": "code",
   "execution_count": null,
   "metadata": {
    "collapsed": true
   },
   "outputs": [],
   "source": [
    "slim_data = data.copy()\n",
    "indexNames = slim_data[ (slim_data['state_binary'] != 1) & (slim_data['state_binary'] != 0) ].index\n",
    "slim_data.drop(indexNames , inplace=True)"
   ]
  },
  {
   "cell_type": "code",
   "execution_count": null,
   "metadata": {
    "collapsed": true
   },
   "outputs": [],
   "source": [
    "# find length of name\n",
    "name_length = []\n",
    "for name in slim_data['name']:\n",
    "    try:\n",
    "        name_length.append(len(name))\n",
    "    except:\n",
    "        name_length.append(0)\n",
    "slim_data['name_len'] = name_length"
   ]
  },
  {
   "cell_type": "code",
   "execution_count": null,
   "metadata": {
    "collapsed": true
   },
   "outputs": [],
   "source": [
    "# scale down data columns\n",
    "sc = MinMaxScaler()\n",
    "\n",
    "slim_data['fit_goal'] = sc.fit_transform(slim_data[['goal']])\n",
    "slim_data['fit_name_len'] = sc.fit_transform(slim_data[['name_len']])\n",
    "slim_data['fit_duration'] = sc.fit_transform(slim_data[['duration']])"
   ]
  },
  {
   "cell_type": "code",
   "execution_count": null,
   "metadata": {
    "collapsed": true
   },
   "outputs": [],
   "source": [
    "training=pd.get_dummies(slim_data, columns=[\"main_category\"])\n",
    "training=pd.get_dummies(training, columns=[\"category\"])\n",
    "training=pd.get_dummies(training, columns=[\"country\"])\n",
    "training=pd.get_dummies(training, columns=[\"currency\"])\n",
    "\n",
    "y = training['state_binary']\n",
    "X = training.loc[:, 'fit_goal':]\n",
    "X['GoalBinary'] = slim_data['GoalBinary']\n",
    "\n",
    "from sklearn.model_selection import train_test_split\n",
    "X_train, X_test, y_train, y_test = train_test_split(X, y, test_size = 0.2, random_state=0)"
   ]
  },
  {
   "cell_type": "code",
   "execution_count": null,
   "metadata": {},
   "outputs": [],
   "source": [
    "X.head()"
   ]
  },
  {
   "cell_type": "code",
   "execution_count": null,
   "metadata": {
    "scrolled": false
   },
   "outputs": [],
   "source": [
    "# build DNN\n",
    "\n",
    "model = Sequential()  # sequential layered network\n",
    "dims = len(X.columns) # dimension of the input data\n",
    "\n",
    "# input layer\n",
    "model.add(Dense(100, activation='linear', input_dim = dims))\n",
    "model.add(LeakyReLU(alpha=.001))\n",
    "model.add(Dropout(0.5))\n",
    "\n",
    "# second layer\n",
    "model.add(Dense(100, activation='linear'))\n",
    "model.add(LeakyReLU(alpha=.001))\n",
    "model.add(Dropout(0.5))\n",
    "\n",
    "\n",
    "# third layer\n",
    "model.add(Dense(100, activation='linear'))\n",
    "model.add(LeakyReLU(alpha=.001))\n",
    "model.add(Dropout(0.5))\n",
    "\n",
    "\n",
    "# fourth layer\n",
    "model.add(Dense(85, activation='linear'))\n",
    "model.add(LeakyReLU(alpha=.001))\n",
    "model.add(Dropout(0.5))\n",
    "\n",
    "\n",
    "# fith layer\n",
    "model.add(Dense(75, activation='linear'))\n",
    "model.add(LeakyReLU(alpha=.001))\n",
    "model.add(Dropout(0.5))\n",
    "\n",
    "# output layer\n",
    "model.add(Dense(1, activation='sigmoid'))\n",
    "\n",
    "# compile the model using rmsprop opt and mse loss\n",
    "model.compile(optimizer = 'adam',  \n",
    "              loss = 'mse',\n",
    "              metrics = ['accuracy'])\n",
    "\n",
    "# Train the model, iterating on the data in batches of 32 samples\n",
    "history = model.fit(X_train, y_train, \n",
    "                    validation_split = 0.33, \n",
    "                    epochs = 50,\n",
    "                    batch_size = 35)\n",
    "\n",
    "# Evaluate the model's performance\n",
    "train_loss, train_acc = model.evaluate(X_train, y_train)\n",
    "test_loss, test_acc = model.evaluate(X_test, y_test)\n",
    "\n",
    "print('Training set accuracy:', train_acc)\n",
    "print('Test set accuracy:', test_acc)"
   ]
  },
  {
   "cell_type": "code",
   "execution_count": null,
   "metadata": {},
   "outputs": [],
   "source": [
    "# The history of our accuracy during training.\n",
    "plt.plot(history.history['acc'])\n",
    "plt.plot(history.history['val_acc'])\n",
    "plt.title('Model Accuracy')\n",
    "plt.ylabel('Accuracy')\n",
    "plt.xlabel('Number of epochs')\n",
    "plt.legend(['train', 'test'], loc='upper left')\n",
    "plt.show()"
   ]
  },
  {
   "cell_type": "code",
   "execution_count": null,
   "metadata": {},
   "outputs": [],
   "source": [
    "# The history of our cross-entropy loss during training.\n",
    "plt.plot(history.history['loss'])\n",
    "plt.plot(history.history['val_loss'])\n",
    "plt.title('Model Loss')\n",
    "plt.ylabel('Loss')\n",
    "plt.xlabel('Number of epochs')\n",
    "plt.legend(['train', 'test'], loc='upper left')\n",
    "plt.show()"
   ]
  },
  {
   "cell_type": "code",
   "execution_count": null,
   "metadata": {},
   "outputs": [],
   "source": [
    "predictions = model.predict(X_test)\n",
    "y_pred = []\n",
    "neg = pos = 0\n",
    "for pred in predictions:\n",
    "    if pred < 0.5:\n",
    "        neg += 1\n",
    "        y_pred.append(0.0)\n",
    "    else:\n",
    "        pos += 1\n",
    "        y_pred.append(1.0)\n",
    "print(\"pos:\", pos, \" | neg:\", neg)\n",
    "print(len(X_test))"
   ]
  },
  {
   "cell_type": "code",
   "execution_count": null,
   "metadata": {
    "collapsed": true
   },
   "outputs": [],
   "source": [
    "y_true = []\n",
    "for val in y_test:\n",
    "    y_true.append(val)\n",
    "matrix = confusion_matrix(y_true, y_pred)\n",
    "print(matrix)"
   ]
  }
 ],
 "metadata": {
  "kernelspec": {
   "display_name": "Python 3",
   "language": "python",
   "name": "python3"
  },
  "language_info": {
   "codemirror_mode": {
    "name": "ipython",
    "version": 3
   },
   "file_extension": ".py",
   "mimetype": "text/x-python",
   "name": "python",
   "nbconvert_exporter": "python",
   "pygments_lexer": "ipython3",
   "version": "3.6.8"
  }
 },
 "nbformat": 4,
 "nbformat_minor": 2
}
